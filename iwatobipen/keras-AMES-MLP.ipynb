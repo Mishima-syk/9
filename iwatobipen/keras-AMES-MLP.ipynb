{
 "cells": [
  {
   "cell_type": "code",
   "execution_count": 1,
   "metadata": {
    "collapsed": false
   },
   "outputs": [
    {
     "name": "stderr",
     "output_type": "stream",
     "text": [
      "Using Theano backend.\n"
     ]
    }
   ],
   "source": [
    "%matplotlib inline\n",
    "import numpy as np\n",
    "import pandas as pd\n",
    "from rdkit import Chem\n",
    "from rdkit.Chem import AllChem, PandasTools, DataStructs\n",
    "from rdkit.Chem.Draw import IPythonConsole\n",
    "\n",
    "from sklearn.cross_validation import train_test_split\n",
    "from sklearn.ensemble import RandomForestClassifier\n",
    "\n",
    "from keras.models import Sequential\n",
    "from keras.layers import Dense, Dropout, Activation\n",
    "from keras.utils import np_utils\n",
    "from keras.callbacks import EarlyStopping"
   ]
  },
  {
   "cell_type": "code",
   "execution_count": 2,
   "metadata": {
    "collapsed": false
   },
   "outputs": [
    {
     "name": "stderr",
     "output_type": "stream",
     "text": [
      "RDKit ERROR: [22:58:00] ERROR: Counts line too short: '' on line306264\n"
     ]
    }
   ],
   "source": [
    "df = PandasTools.LoadSDF( \"cas_4337.sdf\" )"
   ]
  },
  {
   "cell_type": "code",
   "execution_count": 3,
   "metadata": {
    "collapsed": false
   },
   "outputs": [],
   "source": [
    "df[ \"Target\" ]  = np.where( df[ \"Ames test categorisation\" ] == \"mutagen\", 1, 0 )\n",
    "fps = [ AllChem.GetMorganFingerprintAsBitVect( mol, 2, nBits=512, useFeatures=True ) for mol in df.ROMol ]"
   ]
  },
  {
   "cell_type": "code",
   "execution_count": 4,
   "metadata": {
    "collapsed": false
   },
   "outputs": [],
   "source": [
    "fparr = []\n",
    "for fp in fps:\n",
    "    arr = np.zeros((1,))\n",
    "    DataStructs.ConvertToNumpyArray( fp, arr )\n",
    "    fparr.append( arr )\n",
    "fparr = np.array( fparr )"
   ]
  },
  {
   "cell_type": "code",
   "execution_count": 5,
   "metadata": {
    "collapsed": false
   },
   "outputs": [
    {
     "name": "stdout",
     "output_type": "stream",
     "text": [
      "(4337, 512) (4337,)\n"
     ]
    }
   ],
   "source": [
    "Y = np.array( df.Target ) \n",
    "print( fparr.shape, Y.shape )"
   ]
  },
  {
   "cell_type": "code",
   "execution_count": 6,
   "metadata": {
    "collapsed": false
   },
   "outputs": [
    {
     "name": "stdout",
     "output_type": "stream",
     "text": [
      "(3469, 512) (868, 512) (3469,)\n"
     ]
    }
   ],
   "source": [
    "trainx, testx, trainy, testy = train_test_split( fparr,\n",
    "                                                 Y,\n",
    "                                                 test_size = 0.2,\n",
    "                                                 random_state=184 )\n",
    "print(trainx.shape, testx.shape, trainy.shape)\n"
   ]
  },
  {
   "cell_type": "code",
   "execution_count": 7,
   "metadata": {
    "collapsed": true
   },
   "outputs": [],
   "source": [
    "earlystopping = EarlyStopping( monitor='loss' )\n",
    "model = Sequential()\n",
    "model.add( Dense( input_dim=512, output_dim=200 ) )\n",
    "model.add( Activation( \"sigmoid\" ) )\n",
    "#model.add( Dropout(0.1) )\n",
    "model.add( Dense( 200 ) )\n",
    "model.add( Activation( \"sigmoid\" ) )\n",
    "#model.add( Dropout(0.1) )\n",
    "model.add( Dense( 2 ) )\n",
    "model.add( Activation( \"softmax\" ) )\n"
   ]
  },
  {
   "cell_type": "code",
   "execution_count": 8,
   "metadata": {
    "collapsed": false
   },
   "outputs": [],
   "source": [
    "# sdg < adadelta < adagrad < adam\n",
    "model.compile(  \n",
    "               optimizer = 'adam',\n",
    "               loss = 'categorical_crossentropy',\n",
    "               metrics = [ 'accuracy' ]\n",
    "             )"
   ]
  },
  {
   "cell_type": "code",
   "execution_count": 10,
   "metadata": {
    "collapsed": false
   },
   "outputs": [
    {
     "name": "stdout",
     "output_type": "stream",
     "text": [
      "Epoch 1/20\n",
      "3469/3469 [==============================] - 0s - loss: 0.2393 - acc: 0.9060     \n",
      "Epoch 2/20\n",
      "3469/3469 [==============================] - 0s - loss: 0.2339 - acc: 0.9075     \n",
      "Epoch 3/20\n",
      "3469/3469 [==============================] - 0s - loss: 0.2300 - acc: 0.9124     \n",
      "Epoch 4/20\n",
      "3469/3469 [==============================] - 0s - loss: 0.2329 - acc: 0.9129     \n",
      "Epoch 5/20\n",
      "3469/3469 [==============================] - 0s - loss: 0.2252 - acc: 0.9164     \n",
      "Epoch 6/20\n",
      "3469/3469 [==============================] - 0s - loss: 0.2237 - acc: 0.9167     \n",
      "Epoch 7/20\n",
      "3469/3469 [==============================] - 0s - loss: 0.2246 - acc: 0.9199     \n",
      "Epoch 8/20\n",
      "3469/3469 [==============================] - 0s - loss: 0.2145 - acc: 0.9199     \n",
      "Epoch 9/20\n",
      "3469/3469 [==============================] - 0s - loss: 0.2153 - acc: 0.9184     \n",
      "Epoch 10/20\n",
      "3469/3469 [==============================] - 0s - loss: 0.2092 - acc: 0.9219     \n",
      "Epoch 11/20\n",
      "3469/3469 [==============================] - 0s - loss: 0.2058 - acc: 0.9268     \n",
      "Epoch 12/20\n",
      "3469/3469 [==============================] - 0s - loss: 0.2027 - acc: 0.9279     \n",
      "Epoch 13/20\n",
      "3469/3469 [==============================] - 0s - loss: 0.2030 - acc: 0.9271     \n",
      "Epoch 14/20\n",
      "3469/3469 [==============================] - 0s - loss: 0.1980 - acc: 0.9285     \n",
      "Epoch 15/20\n",
      "3469/3469 [==============================] - 0s - loss: 0.2022 - acc: 0.9216     \n",
      "Epoch 16/20\n",
      "3469/3469 [==============================] - 0s - loss: 0.1969 - acc: 0.9300     \n",
      "Epoch 17/20\n",
      "3469/3469 [==============================] - 0s - loss: 0.1867 - acc: 0.9340     \n",
      "Epoch 18/20\n",
      "3469/3469 [==============================] - 0s - loss: 0.1848 - acc: 0.9346     \n",
      "Epoch 19/20\n",
      "3469/3469 [==============================] - 0s - loss: 0.1926 - acc: 0.9302     \n",
      "Epoch 20/20\n",
      "3469/3469 [==============================] - 0s - loss: 0.1808 - acc: 0.9389     \n"
     ]
    }
   ],
   "source": [
    "hist = model.fit( trainx,\n",
    "                  np_utils.to_categorical( trainy ),\n",
    "                  nb_epoch = 20,\n",
    "                  batch_size = 100,\n",
    "                  #callbacks=[ earlystopping ]\n",
    "                )"
   ]
  },
  {
   "cell_type": "code",
   "execution_count": 11,
   "metadata": {
    "collapsed": false
   },
   "outputs": [
    {
     "name": "stdout",
     "output_type": "stream",
     "text": [
      "640/868 [=====================>........] - ETA: 0s"
     ]
    }
   ],
   "source": [
    "pred_y = model.predict_classes( testx )"
   ]
  },
  {
   "cell_type": "code",
   "execution_count": 12,
   "metadata": {
    "collapsed": true
   },
   "outputs": [],
   "source": [
    "from sklearn.metrics import classification_report, confusion_matrix"
   ]
  },
  {
   "cell_type": "code",
   "execution_count": 13,
   "metadata": {
    "collapsed": false
   },
   "outputs": [
    {
     "name": "stdout",
     "output_type": "stream",
     "text": [
      "[[288 104]\n",
      " [ 73 403]]\n"
     ]
    }
   ],
   "source": [
    "print( confusion_matrix( testy, pred_y ) )"
   ]
  },
  {
   "cell_type": "code",
   "execution_count": 14,
   "metadata": {
    "collapsed": false
   },
   "outputs": [
    {
     "name": "stdout",
     "output_type": "stream",
     "text": [
      "             precision    recall  f1-score   support\n",
      "\n",
      "          0       0.80      0.73      0.76       392\n",
      "          1       0.79      0.85      0.82       476\n",
      "\n",
      "avg / total       0.80      0.80      0.80       868\n",
      "\n"
     ]
    }
   ],
   "source": [
    "print( classification_report( testy, pred_y ) )"
   ]
  },
  {
   "cell_type": "code",
   "execution_count": 16,
   "metadata": {
    "collapsed": false
   },
   "outputs": [],
   "source": [
    "import matplotlib.pyplot as plt"
   ]
  },
  {
   "cell_type": "code",
   "execution_count": 23,
   "metadata": {
    "collapsed": false
   },
   "outputs": [
    {
     "data": {
      "text/plain": [
       "[<matplotlib.lines.Line2D at 0x1239a81d0>]"
      ]
     },
     "execution_count": 23,
     "metadata": {},
     "output_type": "execute_result"
    },
    {
     "data": {
      "image/png": "[encoded data removed]",
      "text/plain": [
       "<matplotlib.figure.Figure at 0x124ae4a58>"
      ]
     },
     "metadata": {},
     "output_type": "display_data"
    }
   ],
   "source": [
    "fig.clear()\n",
    "loss = hist.history[ \"loss\" ]\n",
    "acc = hist.history[ \"acc\" ]\n",
    "plt.plot( range( 20 ), loss, label=\"loss\" )"
   ]
  },
  {
   "cell_type": "code",
   "execution_count": 24,
   "metadata": {
    "collapsed": false
   },
   "outputs": [
    {
     "data": {
      "text/plain": [
       "[<matplotlib.lines.Line2D at 0x124e920b8>]"
      ]
     },
     "execution_count": 24,
     "metadata": {},
     "output_type": "execute_result"
    },
    {
     "data": {
      "image/png": "[encoded data removed]",
      "text/plain": [
       "<matplotlib.figure.Figure at 0x124d545f8>"
      ]
     },
     "metadata": {},
     "output_type": "display_data"
    }
   ],
   "source": [
    "plt.plot( range( 20 ), acc, label=\"acc\" )"
   ]
  },
  {
   "cell_type": "code",
   "execution_count": 25,
   "metadata": {
    "collapsed": false
   },
   "outputs": [
    {
     "data": {
      "text/plain": [
       "RandomForestClassifier(bootstrap=True, class_weight=None, criterion='gini',\n",
       "            max_depth=None, max_features='auto', max_leaf_nodes=None,\n",
       "            min_samples_leaf=1, min_samples_split=2,\n",
       "            min_weight_fraction_leaf=0.0, n_estimators=10, n_jobs=1,\n",
       "            oob_score=False, random_state=None, verbose=0,\n",
       "            warm_start=False)"
      ]
     },
     "execution_count": 25,
     "metadata": {},
     "output_type": "execute_result"
    }
   ],
   "source": [
    "# Vs RandomForest\n",
    "rfc = RandomForestClassifier()\n",
    "rfc.fit( trainx, trainy )"
   ]
  },
  {
   "cell_type": "code",
   "execution_count": 26,
   "metadata": {
    "collapsed": true
   },
   "outputs": [],
   "source": [
    "predy = rfc.predict( testx )"
   ]
  },
  {
   "cell_type": "code",
   "execution_count": 27,
   "metadata": {
    "collapsed": false
   },
   "outputs": [
    {
     "data": {
      "text/plain": [
       "array([[323,  69],\n",
       "       [102, 374]])"
      ]
     },
     "execution_count": 27,
     "metadata": {},
     "output_type": "execute_result"
    }
   ],
   "source": [
    "confusion_matrix( testy, predy )"
   ]
  },
  {
   "cell_type": "code",
   "execution_count": 28,
   "metadata": {
    "collapsed": false
   },
   "outputs": [
    {
     "name": "stdout",
     "output_type": "stream",
     "text": [
      "             precision    recall  f1-score   support\n",
      "\n",
      "          0       0.76      0.82      0.79       392\n",
      "          1       0.84      0.79      0.81       476\n",
      "\n",
      "avg / total       0.81      0.80      0.80       868\n",
      "\n"
     ]
    }
   ],
   "source": [
    "# Oh!\n",
    "print(classification_report( testy, predy ))"
   ]
  },
  {
   "cell_type": "code",
   "execution_count": null,
   "metadata": {
    "collapsed": true
   },
   "outputs": [],
   "source": [
    "# まあまあですかね。おしまい。"
   ]
  },
  {
   "cell_type": "code",
   "execution_count": null,
   "metadata": {
    "collapsed": true
   },
   "outputs": [],
   "source": []
  }
 ],
 "metadata": {
  "kernelspec": {
   "display_name": "Python 3",
   "language": "python",
   "name": "python3"
  },
  "language_info": {
   "codemirror_mode": {
    "name": "ipython",
    "version": 3
   },
   "file_extension": ".py",
   "mimetype": "text/x-python",
   "name": "python",
   "nbconvert_exporter": "python",
   "pygments_lexer": "ipython3",
   "version": "3.5.2"
  }
 },
 "nbformat": 4,
 "nbformat_minor": 0
}
