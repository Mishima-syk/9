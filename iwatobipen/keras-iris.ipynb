{
 "cells": [
  {
   "cell_type": "code",
   "execution_count": 1,
   "metadata": {
    "collapsed": false
   },
   "outputs": [
    {
     "name": "stderr",
     "output_type": "stream",
     "text": [
      "Using Theano backend.\n"
     ]
    }
   ],
   "source": [
    "%matplotlib inline\n",
    "from sklearn.datasets import load_iris\n",
    "from sklearn.cross_validation import train_test_split\n",
    "from keras.utils.np_utils import to_categorical"
   ]
  },
  {
   "cell_type": "code",
   "execution_count": 2,
   "metadata": {
    "collapsed": false
   },
   "outputs": [],
   "source": [
    "# prepare dataset\n",
    "irisdata = load_iris()\n",
    "X,Y = irisdata[\"data\"], irisdata[\"target\"]\n",
    "train_X, test_X, train_Y, test_Y = train_test_split( X, Y, test_size=0.2, random_state=123 )\n",
    "#train_Y , test_Y = to_categorical( train_Y ), to_categorical( test_Y )"
   ]
  },
  {
   "cell_type": "code",
   "execution_count": 21,
   "metadata": {
    "collapsed": false
   },
   "outputs": [
    {
     "name": "stdout",
     "output_type": "stream",
     "text": [
      "(30,)\n"
     ]
    }
   ],
   "source": [
    "#print( train_X.shape, test_X.shape )\n",
    "print( test_Y.shape )"
   ]
  },
  {
   "cell_type": "code",
   "execution_count": 4,
   "metadata": {
    "collapsed": true
   },
   "outputs": [],
   "source": [
    "# 空のモデルオブジェクトを生成\n",
    "from keras.models import Sequential\n",
    "model = Sequential()"
   ]
  },
  {
   "cell_type": "code",
   "execution_count": 5,
   "metadata": {
    "collapsed": true
   },
   "outputs": [],
   "source": [
    "# レイヤーは.addで追加して構成する\n",
    "# 活性化関数や、隠れ層の設定で結果がだいぶ変わる\n",
    "# 活性化関数 relu, softmax, sigmoid, tanh\n",
    "from keras.layers import Dense, Activation\n",
    "# 一層目の追加と活性化関数の定義\n",
    "model.add( Dense( output_dim=12, input_dim=4 ) )\n",
    "model.add( Activation( \"relu\" ) )\n",
    "model.add( Dense( output_dim=3 ) )\n",
    "\n",
    "model.add( Activation( \"softmax\" ) )"
   ]
  },
  {
   "cell_type": "code",
   "execution_count": 6,
   "metadata": {
    "collapsed": true
   },
   "outputs": [],
   "source": [
    "# モデルの生成はcompileで行う。\n",
    "model.compile( optimizer=\"sgd\",\n",
    "               loss=\"sparse_categorical_crossentropy\",\n",
    "               metrics = [\"accuracy\"] )"
   ]
  },
  {
   "cell_type": "code",
   "execution_count": 7,
   "metadata": {
    "collapsed": false
   },
   "outputs": [
    {
     "name": "stdout",
     "output_type": "stream",
     "text": [
      "Epoch 1/50\n",
      "120/120 [==============================] - 0s - loss: 1.8365 - acc: 0.4333     \n",
      "Epoch 2/50\n",
      "120/120 [==============================] - 0s - loss: 0.8516 - acc: 0.5583     \n",
      "Epoch 3/50\n",
      "120/120 [==============================] - 0s - loss: 0.7377 - acc: 0.8083     \n",
      "Epoch 4/50\n",
      "120/120 [==============================] - 0s - loss: 0.6514 - acc: 0.8250     \n",
      "Epoch 5/50\n",
      "120/120 [==============================] - 0s - loss: 0.5966 - acc: 0.8500     \n",
      "Epoch 6/50\n",
      "120/120 [==============================] - 0s - loss: 0.5622 - acc: 0.8083     \n",
      "Epoch 7/50\n",
      "120/120 [==============================] - 0s - loss: 0.5233 - acc: 0.8500     \n",
      "Epoch 8/50\n",
      "120/120 [==============================] - 0s - loss: 0.5090 - acc: 0.8083     \n",
      "Epoch 9/50\n",
      "120/120 [==============================] - 0s - loss: 0.4616 - acc: 0.9000     \n",
      "Epoch 10/50\n",
      "120/120 [==============================] - 0s - loss: 0.4383 - acc: 0.9000     \n",
      "Epoch 11/50\n",
      "120/120 [==============================] - 0s - loss: 0.4199 - acc: 0.8500     \n",
      "Epoch 12/50\n",
      "120/120 [==============================] - 0s - loss: 0.3926 - acc: 0.9167     \n",
      "Epoch 13/50\n",
      "120/120 [==============================] - 0s - loss: 0.4020 - acc: 0.8583     \n",
      "Epoch 14/50\n",
      "120/120 [==============================] - 0s - loss: 0.3716 - acc: 0.9167     \n",
      "Epoch 15/50\n",
      "120/120 [==============================] - 0s - loss: 0.3577 - acc: 0.9333     \n",
      "Epoch 16/50\n",
      "120/120 [==============================] - 0s - loss: 0.3497 - acc: 0.9000     \n",
      "Epoch 17/50\n",
      "120/120 [==============================] - 0s - loss: 0.3321 - acc: 0.9667     \n",
      "Epoch 18/50\n",
      "120/120 [==============================] - 0s - loss: 0.3353 - acc: 0.9250     \n",
      "Epoch 19/50\n",
      "120/120 [==============================] - 0s - loss: 0.3139 - acc: 0.9417     \n",
      "Epoch 20/50\n",
      "120/120 [==============================] - 0s - loss: 0.2983 - acc: 0.9500     \n",
      "Epoch 21/50\n",
      "120/120 [==============================] - 0s - loss: 0.2929 - acc: 0.9333     \n",
      "Epoch 22/50\n",
      "120/120 [==============================] - 0s - loss: 0.2848 - acc: 0.9583     \n",
      "Epoch 23/50\n",
      "120/120 [==============================] - 0s - loss: 0.2764 - acc: 0.9417     \n",
      "Epoch 24/50\n",
      "120/120 [==============================] - 0s - loss: 0.2699 - acc: 0.9667     \n",
      "Epoch 25/50\n",
      "120/120 [==============================] - 0s - loss: 0.2666 - acc: 0.9250     \n",
      "Epoch 26/50\n",
      "120/120 [==============================] - 0s - loss: 0.2507 - acc: 0.9833     \n",
      "Epoch 27/50\n",
      "120/120 [==============================] - 0s - loss: 0.2458 - acc: 0.9583     \n",
      "Epoch 28/50\n",
      "120/120 [==============================] - 0s - loss: 0.2551 - acc: 0.9417     \n",
      "Epoch 29/50\n",
      "120/120 [==============================] - 0s - loss: 0.2217 - acc: 0.9500     \n",
      "Epoch 30/50\n",
      "120/120 [==============================] - 0s - loss: 0.2113 - acc: 0.9667     \n",
      "Epoch 31/50\n",
      "120/120 [==============================] - 0s - loss: 0.2248 - acc: 0.9667     \n",
      "Epoch 32/50\n",
      "120/120 [==============================] - 0s - loss: 0.2064 - acc: 0.9750     \n",
      "Epoch 33/50\n",
      "120/120 [==============================] - 0s - loss: 0.2117 - acc: 0.9667     \n",
      "Epoch 34/50\n",
      "120/120 [==============================] - 0s - loss: 0.1957 - acc: 0.9750     \n",
      "Epoch 35/50\n",
      "120/120 [==============================] - 0s - loss: 0.1907 - acc: 0.9833     \n",
      "Epoch 36/50\n",
      "120/120 [==============================] - 0s - loss: 0.2058 - acc: 0.9500     \n",
      "Epoch 37/50\n",
      "120/120 [==============================] - 0s - loss: 0.1893 - acc: 0.9583     \n",
      "Epoch 38/50\n",
      "120/120 [==============================] - 0s - loss: 0.1781 - acc: 0.9583     \n",
      "Epoch 39/50\n",
      "120/120 [==============================] - 0s - loss: 0.1698 - acc: 0.9500     \n",
      "Epoch 40/50\n",
      "120/120 [==============================] - 0s - loss: 0.1982 - acc: 0.9583     \n",
      "Epoch 41/50\n",
      "120/120 [==============================] - 0s - loss: 0.1797 - acc: 0.9667     \n",
      "Epoch 42/50\n",
      "120/120 [==============================] - 0s - loss: 0.1736 - acc: 0.9750     \n",
      "Epoch 43/50\n",
      "120/120 [==============================] - 0s - loss: 0.1635 - acc: 0.9667     \n",
      "Epoch 44/50\n",
      "120/120 [==============================] - 0s - loss: 0.1776 - acc: 0.9833     \n",
      "Epoch 45/50\n",
      "120/120 [==============================] - 0s - loss: 0.1632 - acc: 0.9417     \n",
      "Epoch 46/50\n",
      "120/120 [==============================] - 0s - loss: 0.1634 - acc: 0.9333     \n",
      "Epoch 47/50\n",
      "120/120 [==============================] - 0s - loss: 0.1579 - acc: 0.9833     \n",
      "Epoch 48/50\n",
      "120/120 [==============================] - 0s - loss: 0.1505 - acc: 0.9583     \n",
      "Epoch 49/50\n",
      "120/120 [==============================] - 0s - loss: 0.1590 - acc: 0.9583     \n",
      "Epoch 50/50\n",
      "120/120 [==============================] - 0s - loss: 0.1441 - acc: 0.9667     \n"
     ]
    }
   ],
   "source": [
    "hist = model.fit( train_X, train_Y, nb_epoch=50, batch_size=5 )"
   ]
  },
  {
   "cell_type": "code",
   "execution_count": 8,
   "metadata": {
    "collapsed": false
   },
   "outputs": [
    {
     "name": "stdout",
     "output_type": "stream",
     "text": [
      "30/30 [==============================] - 0s\n"
     ]
    }
   ],
   "source": [
    "#　学習させたモデルで予測してみる\n",
    "pred_Y = model.predict_classes( test_X )"
   ]
  },
  {
   "cell_type": "code",
   "execution_count": 9,
   "metadata": {
    "collapsed": false
   },
   "outputs": [
    {
     "data": {
      "text/plain": [
       "array([2, 2, 2, 1, 0, 2, 1, 0, 0, 1, 2, 0, 1, 2, 2, 2, 0, 0, 1, 0, 0, 2, 0,\n",
       "       2, 0, 0, 0, 2, 2, 0])"
      ]
     },
     "execution_count": 9,
     "metadata": {},
     "output_type": "execute_result"
    }
   ],
   "source": [
    "pred_Y"
   ]
  },
  {
   "cell_type": "code",
   "execution_count": 10,
   "metadata": {
    "collapsed": true
   },
   "outputs": [],
   "source": [
    "from sklearn.metrics import confusion_matrix, classification_report"
   ]
  },
  {
   "cell_type": "code",
   "execution_count": 11,
   "metadata": {
    "collapsed": false
   },
   "outputs": [
    {
     "data": {
      "text/plain": [
       "array([[13,  0,  0],\n",
       "       [ 0,  5,  1],\n",
       "       [ 0,  0, 11]])"
      ]
     },
     "execution_count": 11,
     "metadata": {},
     "output_type": "execute_result"
    }
   ],
   "source": [
    "confusion_matrix( test_Y, pred_Y )"
   ]
  },
  {
   "cell_type": "code",
   "execution_count": 12,
   "metadata": {
    "collapsed": false
   },
   "outputs": [
    {
     "name": "stdout",
     "output_type": "stream",
     "text": [
      "             precision    recall  f1-score   support\n",
      "\n",
      "          0       1.00      1.00      1.00        13\n",
      "          1       1.00      0.83      0.91         6\n",
      "          2       0.92      1.00      0.96        11\n",
      "\n",
      "avg / total       0.97      0.97      0.97        30\n",
      "\n"
     ]
    }
   ],
   "source": [
    "print( classification_report( test_Y, pred_Y ))"
   ]
  },
  {
   "cell_type": "code",
   "execution_count": 13,
   "metadata": {
    "collapsed": false
   },
   "outputs": [],
   "source": [
    "loss = hist.history[ \"loss\" ]\n",
    "acc = hist.history[ \"acc\" ]"
   ]
  },
  {
   "cell_type": "code",
   "execution_count": 14,
   "metadata": {
    "collapsed": false
   },
   "outputs": [
    {
     "data": {
      "text/plain": [
       "[<matplotlib.lines.Line2D at 0x112460f98>]"
      ]
     },
     "execution_count": 14,
     "metadata": {},
     "output_type": "execute_result"
    },
    {
     "data": {
      "image/png": "[encoded data removed]",
      "text/plain": [
       "<matplotlib.figure.Figure at 0x1123bea58>"
      ]
     },
     "metadata": {},
     "output_type": "display_data"
    }
   ],
   "source": [
    "# 学習の過程はヒストリとして保存されているのでかしかしてみる。\n",
    "import matplotlib.pyplot as plt\n",
    "plt.plot( range( len( loss ) ), loss, label = \"loss\" )"
   ]
  },
  {
   "cell_type": "code",
   "execution_count": 15,
   "metadata": {
    "collapsed": false
   },
   "outputs": [
    {
     "data": {
      "text/plain": [
       "[<matplotlib.lines.Line2D at 0x1124e9f98>]"
      ]
     },
     "execution_count": 15,
     "metadata": {},
     "output_type": "execute_result"
    },
    {
     "data": {
      "image/png": "[encoded data removed]",
      "text/plain": [
       "<matplotlib.figure.Figure at 0x11248f358>"
      ]
     },
     "metadata": {},
     "output_type": "display_data"
    }
   ],
   "source": [
    "plt.plot( range( len( acc ) ), acc, label = \"acc\" )"
   ]
  },
  {
   "cell_type": "code",
   "execution_count": 16,
   "metadata": {
    "collapsed": true
   },
   "outputs": [],
   "source": [
    "# SVCはどうでしょう？\n",
    "from sklearn.svm import SVC\n",
    "svc = SVC()"
   ]
  },
  {
   "cell_type": "code",
   "execution_count": 17,
   "metadata": {
    "collapsed": false
   },
   "outputs": [
    {
     "data": {
      "text/plain": [
       "SVC(C=1.0, cache_size=200, class_weight=None, coef0=0.0,\n",
       "  decision_function_shape=None, degree=3, gamma='auto', kernel='rbf',\n",
       "  max_iter=-1, probability=False, random_state=None, shrinking=True,\n",
       "  tol=0.001, verbose=False)"
      ]
     },
     "execution_count": 17,
     "metadata": {},
     "output_type": "execute_result"
    }
   ],
   "source": [
    "svc.fit( train_X, train_Y )"
   ]
  },
  {
   "cell_type": "code",
   "execution_count": 18,
   "metadata": {
    "collapsed": true
   },
   "outputs": [],
   "source": [
    "svc_pred_Y = svc.predict( test_X )"
   ]
  },
  {
   "cell_type": "code",
   "execution_count": 19,
   "metadata": {
    "collapsed": false
   },
   "outputs": [
    {
     "data": {
      "text/plain": [
       "array([[13,  0,  0],\n",
       "       [ 0,  6,  0],\n",
       "       [ 0,  1, 10]])"
      ]
     },
     "execution_count": 19,
     "metadata": {},
     "output_type": "execute_result"
    }
   ],
   "source": [
    "confusion_matrix( test_Y, svc_pred_Y )"
   ]
  },
  {
   "cell_type": "code",
   "execution_count": 20,
   "metadata": {
    "collapsed": false
   },
   "outputs": [
    {
     "name": "stdout",
     "output_type": "stream",
     "text": [
      "             precision    recall  f1-score   support\n",
      "\n",
      "          0       1.00      1.00      1.00        13\n",
      "          1       0.86      1.00      0.92         6\n",
      "          2       1.00      0.91      0.95        11\n",
      "\n",
      "avg / total       0.97      0.97      0.97        30\n",
      "\n"
     ]
    }
   ],
   "source": [
    "# とんとんΣ(ﾟДﾟ；ｴｰｯ!\n",
    "print( classification_report( test_Y, svc_pred_Y ) )"
   ]
  },
  {
   "cell_type": "code",
   "execution_count": null,
   "metadata": {
    "collapsed": true
   },
   "outputs": [],
   "source": []
  },
  {
   "cell_type": "code",
   "execution_count": null,
   "metadata": {
    "collapsed": true
   },
   "outputs": [],
   "source": []
  }
 ],
 "metadata": {
  "kernelspec": {
   "display_name": "Python 3",
   "language": "python",
   "name": "python3"
  },
  "language_info": {
   "codemirror_mode": {
    "name": "ipython",
    "version": 3
   },
   "file_extension": ".py",
   "mimetype": "text/x-python",
   "name": "python",
   "nbconvert_exporter": "python",
   "pygments_lexer": "ipython3",
   "version": "3.5.2"
  }
 },
 "nbformat": 4,
 "nbformat_minor": 0
}
