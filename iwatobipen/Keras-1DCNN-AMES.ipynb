{
 "cells": [
  {
   "cell_type": "markdown",
   "metadata": {},
   "source": [
    "=======================================================\n",
    " 1D CNNをやってみます。なお当日ここまで行かないと想定しています。\n",
    "=======================================================\n",
    "\n",
    "\n",
    " Dataは遺伝毒性と構造のデータセットを使います。\n",
    "========================================\n",
    "\n"
   ]
  },
  {
   "cell_type": "code",
   "execution_count": 1,
   "metadata": {
    "collapsed": false
   },
   "outputs": [
    {
     "name": "stderr",
     "output_type": "stream",
     "text": [
      "Using Theano backend.\n"
     ]
    }
   ],
   "source": [
    "%matplotlib inline\n",
    "import numpy as np\n",
    "import pandas as pd\n",
    "np.random.seed( 32 )\n",
    "from keras.preprocessing import sequence\n",
    "from keras.utils import np_utils\n",
    "from keras.models import Sequential\n",
    "from keras.layers import Dense, Dropout, Activation\n",
    "from keras.layers import Convolution1D, GlobalMaxPooling1D\n",
    "from keras.layers import Embedding\n",
    "from keras import backend as K\n",
    "from rdkit import Chem\n",
    "from rdkit.Chem import PandasTools\n",
    "from rdkit.Chem import AllChem\n",
    "from rdkit.Chem.Draw import IPythonConsole\n",
    "from rdkit.Chem import Draw\n",
    "from sklearn.cross_validation import train_test_split\n",
    "from keras.callbacks import EarlyStopping, RemoteMonitor\n",
    "# kerasはいろんなcall back functionを実装しています"
   ]
  },
  {
   "cell_type": "code",
   "execution_count": 2,
   "metadata": {
    "collapsed": false
   },
   "outputs": [
    {
     "name": "stderr",
     "output_type": "stream",
     "text": [
      "RDKit ERROR: [23:09:30] ERROR: Counts line too short: '' on line306264\n"
     ]
    },
    {
     "data": {
      "text/html": [
       "<table border=\"1\" class=\"dataframe\">\n",
       "  <thead>\n",
       "    <tr style=\"text-align: right;\">\n",
       "      <th></th>\n",
       "      <th>Ames test categorisation</th>\n",
       "      <th>ID</th>\n",
       "      <th>ROMol</th>\n",
       "    </tr>\n",
       "  </thead>\n",
       "  <tbody>\n",
       "    <tr>\n",
       "      <th>0</th>\n",
       "      <td>mutagen</td>\n",
       "      <td>1728-95-6</td>\n",
       "      <td><img src=\"data:image/png;base64,iVBORw0KGgoAAAANSUhEUgAAAMgAAADICAIAAAAiOjnJAAAFZUlEQVR4nO3d0XKbMBQAUdHp//8yfSBDKAiMQSt0xZ7pQ9KmCbU3khA4HcZxTFJpf54+APXJsIQwLCEMSwjDEsKwhDAsIQxLCMMSwrCEMCwhDEsIwxLCsIQwLCEMSwjDEsKwhDAsIQxLCMMSwrCEMCwhDEsIwxLCsIQwLCEMSwjDEsKwhDAsIQxLCMMSwrCEMCwhDEsIwxLCsIQwLCEMSwjDEsKwhDAsIQxLCMMSwrCEMCwhDEsIwxLCsIQwLCEMSwjDEsKwhPj79AGokmEYtr85jiP05QzrFYZhyDbE1WZYnZvS2Wtl+/vZ1C4wrJ7tDVQVGFa3tlWtRqPscFUqRMPq0N70d9xZWYbVm/OjDrfASu5jdebBRdWKYfXjZlVlo3Qq7MHxnsIjDCu8dqa/JafC2NqsKhnWy82ngcUDNaxOfLtTMAwDOtq5xgrschkVJlBHrNfJXuop3pkjVg9OlrHdleD2KQzrLeoMVDOnwqi+yqJyVckRq3s1p78lw+pZ/YFq5lQY3sH97E9VlQwrqDOJPFhVciqM6/xW+yP3PjR6CVMHVmPPtrDVnz7yFBtWJCfHnmVqTz2/hhVGs3fIZLl4jyFWVcmwQghXVfKssHEN3sx+kiNWScvzs+ntOy/UmwaqiFUlwyqu1Es+I05/S4ZV2Diu2xqGr2uLXlVyjVXBtpCps2w5cRdVK2XCqvAddvnHCtR/kraD1vYD0u+k+VtSBwPVrExY4ziiD8qdT/7Is/WxrfQ7Yv0klboYqGb9r7Gm6Omvsp3dprdPptJTUpNiYXHP3/0hh25rGM4GtPmLePFPKbl4J77pPl7JPzqexV/kJuvLVfUt2FnhnTLohaCWiq6xzixZv9F+B8MwtH2Aj2l38U5UVXax1X73DyodVqEHmnvO6pwkqt0Ri1OkrTl9M81qMSx6rzUVHbccArOaOytcjgTF81p+zptBuLo61lxYs5YvE6Vco6a2xIQ1jwTzY50bG7LDBberiT734zi6U7oEhLV8gOe3cw959lnA9sfXO/hFLhM5Su1pbvG+WvqUPYPLvnvZ5lDLbg/H1lxYiWkLMs2Ai3dt60eLYaWibUHD1R7nxgkQ1vRtO/26fc14792TKlR1Z5TqeInGnBU2+XiRl4nu3jzT7Fx/WaNT4eTmoFXzrO3yjX7zD/JveSl5QYAT5iLTWVNbA/PLKLaH1M3N7w093Aea+p/4rh7D79sfj6WFA76p3Us6S6F3Iw9eRbgn9L93EunoA720sIjQbQU+9DZlL2jd+GxRl1xNnxUGVfDcLu7ZomGVV/zCTsS2DCuGC23Nm2TQIR2LcVYYDnE1em5rb8m1amj+sEcWaoZFgdpK/58tnvnJ24/8KBvPCkOae/rq6fP/0tFn848nPVhFbSfHaqsuw+rZdslfbf/CsDqXHaUqtOUaK6rVEv7j87j9GPRs0RHrLSpPi4b1IjWnRcN6l+woRZwtGtYbVZgWDeul6D0tw+rBtcHGxbsySjXhdoMiMaxOtLbRbVhCGFZgxc/sCq7lDSu2Zl9tYVg9qHmj1UnemtyJO/cfX7sf9ZhhdeXjCy5S7o5T4ozSsHqzN3QRw9IBw+rTdujy5V8q46tVV/GFv7cm92+76qqwzDKstzjz0taSX86wRHCDVAjDEsKwhDAsIQxLCMMSwrCEMCwhDEsIwxLCsIQwLCEMSwjDEsKwhDAsIQxLCMMSwrCEMCwhDEsIwxLCsIQwLCEMSwjDEsKwhDAsIQxLCMMSwrCEMCwhDEsIwxLCsIQwLCEMSwjDEsKwhDAsIQxLCMMSwrCEMCwhDEsIwxLCsIQwLCEMSwjDEsKwhDAsIQxLCMMS4h9/uf2PPp3R8AAAAABJRU5ErkJggg==\" alt=\"Mol\"/></td>\n",
       "    </tr>\n",
       "  </tbody>\n",
       "</table>"
      ],
      "text/plain": [
       "  Ames test categorisation         ID                                                                                                                                                                                                                                                                                                                                                                                                                                                                                                                                                                                                                                                                                                                                                                                                                                                                                                                                                                                                                                                                                                                                                                                                                                                                                                                                                                                                                                                                                                                                                                                                                                                                                                                                                                                                                                                                                                                                                                                                                                          ROMol\n",
       "0                  mutagen  1728-95-6  <img src=\"data:image/png;base64,iVBORw0KGgoAAAANSUhEUgAAAMgAAADICAIAAAAiOjnJAAAFZUlEQVR4nO3d0XKbMBQAUdHp//8yfSBDKAiMQSt0xZ7pQ9KmCbU3khA4HcZxTFJpf54+APXJsIQwLCEMSwjDEsKwhDAsIQxLCMMSwrCEMCwhDEsIwxLCsIQwLCEMSwjDEsKwhDAsIQxLCMMSwrCEMCwhDEsIwxLCsIQwLCEMSwjDEsKwhDAsIQxLCMMSwrCEMCwhDEsIwxLCsIQwLCEMSwjDEsKwhDAsIQxLCMMSwrCEMCwhDEsIwxLCsIQwLCEMSwjDEsKwhPj79AGokmEYtr85jiP05QzrFYZhyDbE1WZYnZvS2Wtl+/vZ1C4wrJ7tDVQVGFa3tlWtRqPscFUqRMPq0N70d9xZWYbVm/OjDrfASu5jdebBRdWKYfXjZlVlo3Qq7MHxnsIjDCu8dqa/JafC2NqsKhnWy82ngcUDNaxOfLtTMAwDOtq5xgrschkVJlBHrNfJXuop3pkjVg9OlrHdleD2KQzrLeoMVDOnwqi+yqJyVckRq3s1p78lw+pZ/YFq5lQY3sH97E9VlQwrqDOJPFhVciqM6/xW+yP3PjR6CVMHVmPPtrDVnz7yFBtWJCfHnmVqTz2/hhVGs3fIZLl4jyFWVcmwQghXVfKssHEN3sx+kiNWScvzs+ntOy/UmwaqiFUlwyqu1Es+I05/S4ZV2Diu2xqGr2uLXlVyjVXBtpCps2w5cRdVK2XCqvAddvnHCtR/kraD1vYD0u+k+VtSBwPVrExY4ziiD8qdT/7Is/WxrfQ7Yv0klboYqGb9r7Gm6Omvsp3dprdPptJTUpNiYXHP3/0hh25rGM4GtPmLePFPKbl4J77pPl7JPzqexV/kJuvLVfUt2FnhnTLohaCWiq6xzixZv9F+B8MwtH2Aj2l38U5UVXax1X73DyodVqEHmnvO6pwkqt0Ri1OkrTl9M81qMSx6rzUVHbccArOaOytcjgTF81p+zptBuLo61lxYs5YvE6Vco6a2xIQ1jwTzY50bG7LDBberiT734zi6U7oEhLV8gOe3cw959lnA9sfXO/hFLhM5Su1pbvG+WvqUPYPLvnvZ5lDLbg/H1lxYiWkLMs2Ai3dt60eLYaWibUHD1R7nxgkQ1vRtO/26fc14792TKlR1Z5TqeInGnBU2+XiRl4nu3jzT7Fx/WaNT4eTmoFXzrO3yjX7zD/JveSl5QYAT5iLTWVNbA/PLKLaH1M3N7w093Aea+p/4rh7D79sfj6WFA76p3Us6S6F3Iw9eRbgn9L93EunoA720sIjQbQU+9DZlL2jd+GxRl1xNnxUGVfDcLu7ZomGVV/zCTsS2DCuGC23Nm2TQIR2LcVYYDnE1em5rb8m1amj+sEcWaoZFgdpK/58tnvnJ24/8KBvPCkOae/rq6fP/0tFn848nPVhFbSfHaqsuw+rZdslfbf/CsDqXHaUqtOUaK6rVEv7j87j9GPRs0RHrLSpPi4b1IjWnRcN6l+woRZwtGtYbVZgWDeul6D0tw+rBtcHGxbsySjXhdoMiMaxOtLbRbVhCGFZgxc/sCq7lDSu2Zl9tYVg9qHmj1UnemtyJO/cfX7sf9ZhhdeXjCy5S7o5T4ozSsHqzN3QRw9IBw+rTdujy5V8q46tVV/GFv7cm92+76qqwzDKstzjz0taSX86wRHCDVAjDEsKwhDAsIQxLCMMSwrCEMCwhDEsIwxLCsIQwLCEMSwjDEsKwhDAsIQxLCMMSwrCEMCwhDEsIwxLCsIQwLCEMSwjDEsKwhDAsIQxLCMMSwrCEMCwhDEsIwxLCsIQwLCEMSwjDEsKwhDAsIQxLCMMSwrCEMCwhDEsIwxLCsIQwLCEMSwjDEsKwhDAsIQxLCMMS4h9/uf2PPp3R8AAAAABJRU5ErkJggg==\" alt=\"Mol\"/>"
      ]
     },
     "execution_count": 2,
     "metadata": {},
     "output_type": "execute_result"
    }
   ],
   "source": [
    "IPythonConsole.ipython_useSVG = True\n",
    "# SDF読み込み エラーは気にしない\n",
    "df = PandasTools.LoadSDF( \"cas_4337.sdf\" )\n",
    "df.head(1)"
   ]
  },
  {
   "cell_type": "markdown",
   "metadata": {},
   "source": [
    " 分子を1から1024までの数値のベクトルとして表現します。自然言語処理で言うところの分かち書き〜インデックス化のようなイメージ"
   ]
  },
  {
   "cell_type": "code",
   "execution_count": 4,
   "metadata": {
    "collapsed": false
   },
   "outputs": [
    {
     "name": "stdout",
     "output_type": "stream",
     "text": [
      "156\n"
     ]
    }
   ],
   "source": [
    "fps = [ list(AllChem.GetMorganFingerprintAsBitVect( mol,2, nBits=1024 ).GetOnBits()) for mol in df.ROMol  ]\n",
    "# 一番長いベクトルの長さを確認します\n",
    "print( max([ len(i) for i in fps ]))"
   ]
  },
  {
   "cell_type": "code",
   "execution_count": 5,
   "metadata": {
    "collapsed": false
   },
   "outputs": [
    {
     "name": "stdout",
     "output_type": "stream",
     "text": [
      "(4337, 500)\n"
     ]
    }
   ],
   "source": [
    "# pad_sequencesはon bitsの長さが揃ってない行列を一定の長さに変換します。\n",
    "# to_categoricalは ポジネガのクラスを二次元0，1の行列に変換します。\n",
    "# さっきの例で156でしたのでとりあえず500くらいにします。（根拠はありません）\n",
    "fpsconv = sequence.pad_sequences( fps, maxlen=500 )\n",
    "# Amesがmutagenか否かを0,1のビットで表現します。\n",
    "df['response'] = np.where(df[\"Ames test categorisation\"]=='mutagen', 1, 0)\n",
    "res = df[\"response\"]\n",
    "# to_categoricalをつかうと\n",
    "# 0 => [1,0]また、1 = > [0,1]のようにインデックスをone-hotベクトルとして表現できます\n",
    "res2 = np_utils.to_categorical( res )\n",
    "# これで化合物数x500の入力データができました。今回はこの後でデータを分割するので\n",
    "print(fpsconv.shape)"
   ]
  },
  {
   "cell_type": "code",
   "execution_count": 6,
   "metadata": {
    "collapsed": false
   },
   "outputs": [],
   "source": [
    "# scikit-learnのメソッドでトレーニングとテストデータに分割します。\n",
    "trainx, testx, trainy, testy = train_test_split( fpsconv,\n",
    "                                                 res2,\n",
    "                                                 test_size=0.1,\n",
    "                                                 random_state=123 )"
   ]
  },
  {
   "cell_type": "code",
   "execution_count": 7,
   "metadata": {
    "collapsed": false
   },
   "outputs": [
    {
     "name": "stdout",
     "output_type": "stream",
     "text": [
      "(3903, 500) (434, 500)\n",
      "(3903, 2) (434, 2)\n"
     ]
    }
   ],
   "source": [
    "print(trainx.shape, testx.shape)\n",
    "print(trainy.shape, testy.shape)"
   ]
  },
  {
   "cell_type": "code",
   "execution_count": 33,
   "metadata": {
    "collapsed": false
   },
   "outputs": [],
   "source": [
    "# モデルを作ります。\n",
    "# 一次元のCNNを行いたいの最初の層は埋め込みを行います。ここはword embeddingと同じアプローチを取ります。\n",
    "# 畳み込みは画像分類や文書解析では非常にいい結果を出しますが、分子の場合インデックスの並びが意味を持たないので\n",
    "# びみょーだと思っています。\n",
    "# 各ビットのインデックスをベクトルとして表現します。\n",
    "# 1024 bitで分子を表現します。input_dimは1024（最初のビットの設定）とします。\n",
    "# outputdimは64としました。\n",
    "# input_lengthはさっきpaddingした値なので500（ベクトルが持ってる次元数）となります。\n",
    "earlystop = EarlyStopping( monitor='loss' )\n",
    "# remote monitorを使うにはhttps://github.com/fchollet/hualosをcloneして\n",
    "# api.pyを起動しておくんだってばよ。\n",
    "\n",
    "monitor = RemoteMonitor( root='http://localhost:9000'  )\n",
    "model = Sequential()\n",
    "model.add(  Embedding( 1024, 32, input_length=500 ))\n",
    "\n",
    "# model.compile( \"rmsprop\",\"mse\")\n",
    "# outtest = model.predict( trainx )\n",
    "# outtest.shape\n",
    "# (3903, 500, 64)のマトリックスになります。\n",
    "\n",
    "\n",
    "model.add( Convolution1D( nb_filter=5,\n",
    "                          filter_length=10, \n",
    "                          input_length = 500,\n",
    "                          ))\n"
   ]
  },
  {
   "cell_type": "code",
   "execution_count": 34,
   "metadata": {
    "collapsed": false
   },
   "outputs": [],
   "source": [
    "# 活性化関数はとりあえずsigmoid\n",
    "model.add( Activation('sigmoid') )\n",
    "# pooling層はmaxpoolingとしています。根拠はありませんW\n",
    "# 最後は二次元の０１のベクトルなんで２とします。\n",
    "model.add( GlobalMaxPooling1D() )\n",
    "model.add( Dense( 2 ) )"
   ]
  },
  {
   "cell_type": "code",
   "execution_count": 35,
   "metadata": {
    "collapsed": true
   },
   "outputs": [],
   "source": [
    "model.add( Activation( \"softmax\" ) )"
   ]
  },
  {
   "cell_type": "code",
   "execution_count": 36,
   "metadata": {
    "collapsed": true
   },
   "outputs": [],
   "source": [
    "model.compile( optimizer=\"adadelta\",\n",
    "               loss=\"categorical_crossentropy\",\n",
    "               metrics = [\"accuracy\"],\n",
    "               )"
   ]
  },
  {
   "cell_type": "code",
   "execution_count": 37,
   "metadata": {
    "collapsed": false
   },
   "outputs": [
    {
     "name": "stdout",
     "output_type": "stream",
     "text": [
      "Epoch 1/20\n",
      "3903/3903 [==============================] - 7s - loss: 0.6914 - acc: 0.5544     \n",
      "Epoch 2/20\n",
      "3903/3903 [==============================] - 7s - loss: 0.6884 - acc: 0.5544     \n",
      "Epoch 3/20\n",
      "3903/3903 [==============================] - 7s - loss: 0.6869 - acc: 0.5544     \n",
      "Epoch 4/20\n",
      "3903/3903 [==============================] - 7s - loss: 0.6858 - acc: 0.5544     \n",
      "Epoch 5/20\n",
      "3903/3903 [==============================] - 7s - loss: 0.6847 - acc: 0.5544     \n",
      "Epoch 6/20\n",
      "3903/3903 [==============================] - 7s - loss: 0.6836 - acc: 0.5544     \n",
      "Epoch 7/20\n",
      "3903/3903 [==============================] - 7s - loss: 0.6822 - acc: 0.5544     \n",
      "Epoch 8/20\n",
      "3903/3903 [==============================] - 7s - loss: 0.6807 - acc: 0.5544     \n",
      "Epoch 9/20\n",
      "3903/3903 [==============================] - 7s - loss: 0.6788 - acc: 0.5544     \n",
      "Epoch 10/20\n",
      "3903/3903 [==============================] - 7s - loss: 0.6766 - acc: 0.5544     \n",
      "Epoch 11/20\n",
      "3903/3903 [==============================] - 7s - loss: 0.6741 - acc: 0.5544     \n",
      "Epoch 12/20\n",
      "3903/3903 [==============================] - 7s - loss: 0.6711 - acc: 0.5544     \n",
      "Epoch 13/20\n",
      "3903/3903 [==============================] - 7s - loss: 0.6680 - acc: 0.5544     \n",
      "Epoch 14/20\n",
      "3903/3903 [==============================] - 7s - loss: 0.6647 - acc: 0.5544     \n",
      "Epoch 15/20\n",
      "3903/3903 [==============================] - 7s - loss: 0.6609 - acc: 0.5544     \n",
      "Epoch 16/20\n",
      "3903/3903 [==============================] - 7s - loss: 0.6571 - acc: 0.5544     \n",
      "Epoch 17/20\n",
      "3903/3903 [==============================] - 7s - loss: 0.6533 - acc: 0.5544     \n",
      "Epoch 18/20\n",
      "3903/3903 [==============================] - 7s - loss: 0.6493 - acc: 0.5624     \n",
      "Epoch 19/20\n",
      "3903/3903 [==============================] - 7s - loss: 0.6454 - acc: 0.5803     \n",
      "Epoch 20/20\n",
      "3903/3903 [==============================] - 7s - loss: 0.6415 - acc: 0.5931     \n"
     ]
    }
   ],
   "source": [
    "# では学習しましょう epochは時間がかかるので適当にちっちゃくしてください　お茶でも飲むかウェブでも見ましょうか。\n",
    "hist = model.fit(trainx,trainy,\n",
    "                 nb_epoch=20, \n",
    "                 batch_size=100,\n",
    "                 callbacks=[  earlystop ]\n",
    "                )"
   ]
  },
  {
   "cell_type": "code",
   "execution_count": 38,
   "metadata": {
    "collapsed": false
   },
   "outputs": [
    {
     "name": "stdout",
     "output_type": "stream",
     "text": [
      "434/434 [==============================] - 0s     \n"
     ]
    }
   ],
   "source": [
    "# 結果を確認します。\n",
    "# predict_classesで分類として結果を取得します。\n",
    "\n",
    "pred_y = model.predict_classes( testx )\n",
    "test_y_class = [ np.argmax(i) for i in testy ]\n",
    "from sklearn.metrics import confusion_matrix, classification_report"
   ]
  },
  {
   "cell_type": "code",
   "execution_count": 39,
   "metadata": {
    "collapsed": false
   },
   "outputs": [
    {
     "data": {
      "text/plain": [
       "array([[ 30, 167],\n",
       "       [  2, 235]])"
      ]
     },
     "execution_count": 39,
     "metadata": {},
     "output_type": "execute_result"
    }
   ],
   "source": [
    "confusion_matrix( test_y_class, pred_y)"
   ]
  },
  {
   "cell_type": "code",
   "execution_count": 40,
   "metadata": {
    "collapsed": false
   },
   "outputs": [
    {
     "name": "stdout",
     "output_type": "stream",
     "text": [
      "             precision    recall  f1-score   support\n",
      "\n",
      "          0       0.94      0.15      0.26       197\n",
      "          1       0.58      0.99      0.74       237\n",
      "\n",
      "avg / total       0.74      0.61      0.52       434\n",
      "\n"
     ]
    }
   ],
   "source": [
    "print( classification_report(test_y_class, pred_y) )"
   ]
  },
  {
   "cell_type": "code",
   "execution_count": 41,
   "metadata": {
    "collapsed": true
   },
   "outputs": [],
   "source": [
    "import matplotlib.pyplot as plt\n",
    "loss = hist.history['loss']\n",
    "acc = hist.history[ 'acc' ]"
   ]
  },
  {
   "cell_type": "code",
   "execution_count": 42,
   "metadata": {
    "collapsed": false
   },
   "outputs": [
    {
     "data": {
      "text/plain": [
       "[<matplotlib.lines.Line2D at 0x122af8240>]"
      ]
     },
     "execution_count": 42,
     "metadata": {},
     "output_type": "execute_result"
    },
    {
     "data": {
      "image/png": "[encoded data removed]",
      "text/plain": [
       "<matplotlib.figure.Figure at 0x11f5cc828>"
      ]
     },
     "metadata": {},
     "output_type": "display_data"
    }
   ],
   "source": [
    "plt.plot( range(len(loss)), loss, label='loss' )"
   ]
  },
  {
   "cell_type": "code",
   "execution_count": 43,
   "metadata": {
    "collapsed": false
   },
   "outputs": [
    {
     "data": {
      "text/plain": [
       "[<matplotlib.lines.Line2D at 0x122a819b0>]"
      ]
     },
     "execution_count": 43,
     "metadata": {},
     "output_type": "execute_result"
    },
    {
     "data": {
      "image/png": "[encoded data removed]",
      "text/plain": [
       "<matplotlib.figure.Figure at 0x11f872358>"
      ]
     },
     "metadata": {},
     "output_type": "display_data"
    }
   ],
   "source": [
    "plt.plot( range(len(acc)), acc, label='acc' )"
   ]
  },
  {
   "cell_type": "code",
   "execution_count": null,
   "metadata": {
    "collapsed": true
   },
   "outputs": [],
   "source": []
  },
  {
   "cell_type": "code",
   "execution_count": null,
   "metadata": {
    "collapsed": true
   },
   "outputs": [],
   "source": []
  }
 ],
 "metadata": {
  "kernelspec": {
   "display_name": "Python 3",
   "language": "python",
   "name": "python3"
  },
  "language_info": {
   "codemirror_mode": {
    "name": "ipython",
    "version": 3
   },
   "file_extension": ".py",
   "mimetype": "text/x-python",
   "name": "python",
   "nbconvert_exporter": "python",
   "pygments_lexer": "ipython3",
   "version": "3.5.2"
  }
 },
 "nbformat": 4,
 "nbformat_minor": 0
}
