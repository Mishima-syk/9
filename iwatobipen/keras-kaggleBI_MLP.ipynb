{
 "cells": [
  {
   "cell_type": "code",
   "execution_count": 38,
   "metadata": {
    "collapsed": false
   },
   "outputs": [],
   "source": [
    "%matplotlib inline\n",
    "from sklearn.cross_validation import train_test_split\n",
    "from keras.utils.np_utils import to_categorical\n",
    "import pandas as pd\n",
    "import numpy as np"
   ]
  },
  {
   "cell_type": "code",
   "execution_count": 65,
   "metadata": {
    "collapsed": false
   },
   "outputs": [
    {
     "name": "stdout",
     "output_type": "stream",
     "text": [
      "(3751, 1777)\n"
     ]
    }
   ],
   "source": [
    "# prepare dataset\n",
    "train = pd.read_csv( \"kaggle/train.csv\", header=0 )\n",
    "print( train.shape )"
   ]
  },
  {
   "cell_type": "code",
   "execution_count": 86,
   "metadata": {
    "collapsed": false
   },
   "outputs": [
    {
     "name": "stdout",
     "output_type": "stream",
     "text": [
      "(2625, 1776)\n",
      "(2625,) {0, 1}\n"
     ]
    }
   ],
   "source": [
    "Y = train.Activity\n",
    "X = train.ix[:,1:]\n",
    "train_X, test_X, train_Y, test_Y = train_test_split( X, Y, test_size=0.3, random_state=123 )\n",
    "train_X, test_X = np.asanyarray( train_X ), np.asanyarray( test_X )\n",
    "train_Y, test_Y = np.asanyarray( train_Y ), np.asanyarray( test_Y )\n",
    "\n",
    "print( train_X.shape )\n",
    "print( train_Y.shape, set( train_Y ) )"
   ]
  },
  {
   "cell_type": "code",
   "execution_count": 87,
   "metadata": {
    "collapsed": true
   },
   "outputs": [],
   "source": [
    "# 空のモデルオブジェクトを生成\n",
    "from keras.models import Sequential\n",
    "model = Sequential()"
   ]
  },
  {
   "cell_type": "code",
   "execution_count": 88,
   "metadata": {
    "collapsed": true
   },
   "outputs": [],
   "source": [
    "# レイヤーは.addで追加して構成する\n",
    "# 活性化関数や、隠れ層の設定で結果がだいぶ変わる\n",
    "# 活性化関数 relu, softmax, sigmoid, tanh\n",
    "from keras.layers import Dense, Activation\n",
    "# 一層目の追加と活性化関数の定義\n",
    "model.add( Dense( output_dim=100, input_dim=1776 ) )\n",
    "model.add( Activation( \"relu\" ) )\n",
    "model.add( Dense( output_dim=2 ) )\n",
    "model.add( Activation( \"softmax\" ) )"
   ]
  },
  {
   "cell_type": "code",
   "execution_count": 89,
   "metadata": {
    "collapsed": true
   },
   "outputs": [],
   "source": [
    "# モデルの生成はcompileで行う。\n",
    "model.compile( optimizer=\"sgd\",\n",
    "               loss=\"sparse_categorical_crossentropy\",\n",
    "               metrics = [\"accuracy\"] )"
   ]
  },
  {
   "cell_type": "code",
   "execution_count": 90,
   "metadata": {
    "collapsed": false
   },
   "outputs": [
    {
     "name": "stdout",
     "output_type": "stream",
     "text": [
      "Epoch 1/20\n",
      "2625/2625 [==============================] - 0s - loss: 0.7046 - acc: 0.5128     \n",
      "Epoch 2/20\n",
      "2625/2625 [==============================] - 0s - loss: 0.6748 - acc: 0.5752     \n",
      "Epoch 3/20\n",
      "2625/2625 [==============================] - 0s - loss: 0.6516 - acc: 0.6324     \n",
      "Epoch 4/20\n",
      "2625/2625 [==============================] - 0s - loss: 0.6338 - acc: 0.6552     \n",
      "Epoch 5/20\n",
      "2625/2625 [==============================] - 0s - loss: 0.6186 - acc: 0.6804     \n",
      "Epoch 6/20\n",
      "2625/2625 [==============================] - 0s - loss: 0.6049 - acc: 0.6861     \n",
      "Epoch 7/20\n",
      "2625/2625 [==============================] - 0s - loss: 0.5921 - acc: 0.6987     \n",
      "Epoch 8/20\n",
      "2625/2625 [==============================] - 0s - loss: 0.5812 - acc: 0.7105     \n",
      "Epoch 9/20\n",
      "2625/2625 [==============================] - 0s - loss: 0.5703 - acc: 0.7166     \n",
      "Epoch 10/20\n",
      "2625/2625 [==============================] - 0s - loss: 0.5614 - acc: 0.7227     \n",
      "Epoch 11/20\n",
      "2625/2625 [==============================] - 0s - loss: 0.5519 - acc: 0.7333     \n",
      "Epoch 12/20\n",
      "2625/2625 [==============================] - 0s - loss: 0.5446 - acc: 0.7436     \n",
      "Epoch 13/20\n",
      "2625/2625 [==============================] - 0s - loss: 0.5370 - acc: 0.7512     \n",
      "Epoch 14/20\n",
      "2625/2625 [==============================] - 0s - loss: 0.5294 - acc: 0.7554     \n",
      "Epoch 15/20\n",
      "2625/2625 [==============================] - 0s - loss: 0.5222 - acc: 0.7535     \n",
      "Epoch 16/20\n",
      "2625/2625 [==============================] - 0s - loss: 0.5164 - acc: 0.7570     \n",
      "Epoch 17/20\n",
      "2625/2625 [==============================] - 0s - loss: 0.5104 - acc: 0.7623     \n",
      "Epoch 18/20\n",
      "2625/2625 [==============================] - 0s - loss: 0.5047 - acc: 0.7650     \n",
      "Epoch 19/20\n",
      "2625/2625 [==============================] - 0s - loss: 0.4993 - acc: 0.7695     \n",
      "Epoch 20/20\n",
      "2625/2625 [==============================] - 0s - loss: 0.4940 - acc: 0.7707     \n"
     ]
    }
   ],
   "source": [
    "hist = model.fit( np.asanyarray(train_X), train_Y, nb_epoch=20, batch_size=100 )"
   ]
  },
  {
   "cell_type": "code",
   "execution_count": 91,
   "metadata": {
    "collapsed": false
   },
   "outputs": [
    {
     "name": "stdout",
     "output_type": "stream",
     "text": [
      " 992/1126 [=========================>....] - ETA: 0s"
     ]
    }
   ],
   "source": [
    "#　学習させたモデルで予測してみる\n",
    "pred_Y = model.predict_classes( test_X )"
   ]
  },
  {
   "cell_type": "code",
   "execution_count": 92,
   "metadata": {
    "collapsed": false
   },
   "outputs": [
    {
     "data": {
      "text/plain": [
       "array([1, 0, 0, ..., 1, 0, 0])"
      ]
     },
     "execution_count": 92,
     "metadata": {},
     "output_type": "execute_result"
    }
   ],
   "source": [
    "pred_Y"
   ]
  },
  {
   "cell_type": "code",
   "execution_count": 93,
   "metadata": {
    "collapsed": true
   },
   "outputs": [],
   "source": [
    "from sklearn.metrics import confusion_matrix, classification_report"
   ]
  },
  {
   "cell_type": "code",
   "execution_count": 94,
   "metadata": {
    "collapsed": false
   },
   "outputs": [
    {
     "data": {
      "text/plain": [
       "array([[372, 142],\n",
       "       [149, 463]])"
      ]
     },
     "execution_count": 94,
     "metadata": {},
     "output_type": "execute_result"
    }
   ],
   "source": [
    "confusion_matrix( test_Y, pred_Y )"
   ]
  },
  {
   "cell_type": "code",
   "execution_count": 95,
   "metadata": {
    "collapsed": false
   },
   "outputs": [
    {
     "name": "stdout",
     "output_type": "stream",
     "text": [
      "             precision    recall  f1-score   support\n",
      "\n",
      "          0       0.71      0.72      0.72       514\n",
      "          1       0.77      0.76      0.76       612\n",
      "\n",
      "avg / total       0.74      0.74      0.74      1126\n",
      "\n"
     ]
    }
   ],
   "source": [
    "print( classification_report( test_Y, pred_Y ))"
   ]
  },
  {
   "cell_type": "code",
   "execution_count": 96,
   "metadata": {
    "collapsed": false
   },
   "outputs": [],
   "source": [
    "loss = hist.history[ \"loss\" ]\n",
    "acc = hist.history[ \"acc\" ]"
   ]
  },
  {
   "cell_type": "code",
   "execution_count": 97,
   "metadata": {
    "collapsed": false
   },
   "outputs": [
    {
     "data": {
      "text/plain": [
       "[<matplotlib.lines.Line2D at 0x11a0d0940>]"
      ]
     },
     "execution_count": 97,
     "metadata": {},
     "output_type": "execute_result"
    },
    {
     "data": {
      "image/png": "[encoded data removed]",
      "text/plain": [
       "<matplotlib.figure.Figure at 0x11a08b9b0>"
      ]
     },
     "metadata": {},
     "output_type": "display_data"
    }
   ],
   "source": [
    "# 学習の過程はヒストリとして保存されているのでかしかしてみる。\n",
    "import matplotlib.pyplot as plt\n",
    "plt.plot( range( len( loss ) ), loss, label = \"loss\" )"
   ]
  },
  {
   "cell_type": "code",
   "execution_count": 98,
   "metadata": {
    "collapsed": false
   },
   "outputs": [
    {
     "data": {
      "text/plain": [
       "[<matplotlib.lines.Line2D at 0x131c6da90>]"
      ]
     },
     "execution_count": 98,
     "metadata": {},
     "output_type": "execute_result"
    },
    {
     "data": {
      "image/png": "[encoded data removed]",
      "text/plain": [
       "<matplotlib.figure.Figure at 0x135df2eb8>"
      ]
     },
     "metadata": {},
     "output_type": "display_data"
    }
   ],
   "source": [
    "plt.plot( range( len( acc ) ), acc, label = \"acc\" )"
   ]
  },
  {
   "cell_type": "code",
   "execution_count": 99,
   "metadata": {
    "collapsed": true
   },
   "outputs": [],
   "source": [
    "# SVCはどうでしょう？\n",
    "from sklearn.svm import SVC\n",
    "svc = SVC()"
   ]
  },
  {
   "cell_type": "code",
   "execution_count": 100,
   "metadata": {
    "collapsed": false
   },
   "outputs": [
    {
     "data": {
      "text/plain": [
       "SVC(C=1.0, cache_size=200, class_weight=None, coef0=0.0,\n",
       "  decision_function_shape=None, degree=3, gamma='auto', kernel='rbf',\n",
       "  max_iter=-1, probability=False, random_state=None, shrinking=True,\n",
       "  tol=0.001, verbose=False)"
      ]
     },
     "execution_count": 100,
     "metadata": {},
     "output_type": "execute_result"
    }
   ],
   "source": [
    "svc.fit( train_X, train_Y )"
   ]
  },
  {
   "cell_type": "code",
   "execution_count": 101,
   "metadata": {
    "collapsed": true
   },
   "outputs": [],
   "source": [
    "svc_pred_Y = svc.predict( test_X )"
   ]
  },
  {
   "cell_type": "code",
   "execution_count": 102,
   "metadata": {
    "collapsed": false
   },
   "outputs": [
    {
     "data": {
      "text/plain": [
       "array([[345, 169],\n",
       "       [151, 461]])"
      ]
     },
     "execution_count": 102,
     "metadata": {},
     "output_type": "execute_result"
    }
   ],
   "source": [
    "confusion_matrix( test_Y, svc_pred_Y )"
   ]
  },
  {
   "cell_type": "code",
   "execution_count": 103,
   "metadata": {
    "collapsed": false
   },
   "outputs": [
    {
     "name": "stdout",
     "output_type": "stream",
     "text": [
      "             precision    recall  f1-score   support\n",
      "\n",
      "          0       0.70      0.67      0.68       514\n",
      "          1       0.73      0.75      0.74       612\n",
      "\n",
      "avg / total       0.72      0.72      0.72      1126\n",
      "\n"
     ]
    }
   ],
   "source": [
    "# DNNがちょっとよい\n",
    "print( classification_report( test_Y, svc_pred_Y ) )"
   ]
  },
  {
   "cell_type": "code",
   "execution_count": 105,
   "metadata": {
    "collapsed": false
   },
   "outputs": [
    {
     "data": {
      "text/plain": [
       "1.0"
      ]
     },
     "execution_count": 105,
     "metadata": {},
     "output_type": "execute_result"
    }
   ],
   "source": []
  },
  {
   "cell_type": "code",
   "execution_count": null,
   "metadata": {
    "collapsed": true
   },
   "outputs": [],
   "source": []
  }
 ],
 "metadata": {
  "kernelspec": {
   "display_name": "Python 3",
   "language": "python",
   "name": "python3"
  },
  "language_info": {
   "codemirror_mode": {
    "name": "ipython",
    "version": 3
   },
   "file_extension": ".py",
   "mimetype": "text/x-python",
   "name": "python",
   "nbconvert_exporter": "python",
   "pygments_lexer": "ipython3",
   "version": "3.5.2"
  }
 },
 "nbformat": 4,
 "nbformat_minor": 0
}
