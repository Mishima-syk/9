{
 "cells": [
  {
   "cell_type": "code",
   "execution_count": 1,
   "metadata": {
    "collapsed": false
   },
   "outputs": [
    {
     "name": "stderr",
     "output_type": "stream",
     "text": [
      "Using Theano backend.\n"
     ]
    }
   ],
   "source": [
    "%matplotlib inline\n",
    "from sklearn.cross_validation import train_test_split\n",
    "from keras.utils.np_utils import to_categorical\n",
    "import pandas as pd\n",
    "import numpy as np"
   ]
  },
  {
   "cell_type": "code",
   "execution_count": 2,
   "metadata": {
    "collapsed": false
   },
   "outputs": [
    {
     "name": "stdout",
     "output_type": "stream",
     "text": [
      "(3751, 1777)\n"
     ]
    }
   ],
   "source": [
    "# prepare dataset\n",
    "train = pd.read_csv( \"kaggle/train.csv\", header=0 )\n",
    "print( train.shape )"
   ]
  },
  {
   "cell_type": "code",
   "execution_count": 3,
   "metadata": {
    "collapsed": false
   },
   "outputs": [
    {
     "name": "stdout",
     "output_type": "stream",
     "text": [
      "(2625, 1776)\n",
      "(2625,) {0, 1}\n"
     ]
    },
    {
     "data": {
      "text/plain": [
       "array([1, 1, 1, ..., 1, 1, 0])"
      ]
     },
     "execution_count": 3,
     "metadata": {},
     "output_type": "execute_result"
    }
   ],
   "source": [
    "Y = train.Activity\n",
    "X = train.ix[:,1:]\n",
    "train_X, test_X, train_Y, test_Y = train_test_split( X, Y, test_size=0.3, random_state=123 )\n",
    "train_X, test_X = np.asanyarray( train_X ), np.asanyarray( test_X )\n",
    "train_Y, test_Y = np.asanyarray( train_Y ), np.asanyarray( test_Y )\n",
    "\n",
    "print( train_X.shape )\n",
    "print( train_Y.shape, set( train_Y ) )\n",
    "train_Y"
   ]
  },
  {
   "cell_type": "code",
   "execution_count": 22,
   "metadata": {
    "collapsed": true
   },
   "outputs": [],
   "source": [
    "# 空のモデルオブジェクトを生成\n",
    "from keras.models import Sequential\n",
    "model = Sequential()"
   ]
  },
  {
   "cell_type": "code",
   "execution_count": 23,
   "metadata": {
    "collapsed": true
   },
   "outputs": [],
   "source": [
    "# レイヤーは.addで追加して構成する\n",
    "# 活性化関数や、隠れ層の設定で結果がだいぶ変わる\n",
    "# 活性化関数 relu, softmax, sigmoid, tanh\n",
    "from keras.layers import Dense, Activation\n",
    "# 一層目の追加と活性化関数の定義\n",
    "model.add( Dense( output_dim=100, input_dim=1776 ) )\n",
    "model.add( Activation( \"relu\" ) )\n",
    "model.add( Dense( output_dim=2 ) )\n",
    "model.add( Activation( \"softmax\" ) )"
   ]
  },
  {
   "cell_type": "code",
   "execution_count": 24,
   "metadata": {
    "collapsed": false
   },
   "outputs": [],
   "source": [
    "# モデルの生成はcompileで行う。\n",
    "# 確率的勾配降下法をしていしている adadelta, adam, 他いろいろ指定できる。\n",
    "model.compile( optimizer=\"sgd\",\n",
    "               loss=\"categorical_crossentropy\",\n",
    "               metrics = [\"accuracy\"] )"
   ]
  },
  {
   "cell_type": "code",
   "execution_count": 25,
   "metadata": {
    "collapsed": false
   },
   "outputs": [
    {
     "name": "stdout",
     "output_type": "stream",
     "text": [
      "Epoch 1/20\n",
      "2625/2625 [==============================] - 0s - loss: 0.6988 - acc: 0.5227     \n",
      "Epoch 2/20\n",
      "2625/2625 [==============================] - 0s - loss: 0.6601 - acc: 0.6267     \n",
      "Epoch 3/20\n",
      "2625/2625 [==============================] - 0s - loss: 0.6334 - acc: 0.6678     \n",
      "Epoch 4/20\n",
      "2625/2625 [==============================] - 0s - loss: 0.6138 - acc: 0.6945     \n",
      "Epoch 5/20\n",
      "2625/2625 [==============================] - 0s - loss: 0.5973 - acc: 0.7082     \n",
      "Epoch 6/20\n",
      "2625/2625 [==============================] - 0s - loss: 0.5833 - acc: 0.7162     \n",
      "Epoch 7/20\n",
      "2625/2625 [==============================] - 0s - loss: 0.5710 - acc: 0.7261     \n",
      "Epoch 8/20\n",
      "2625/2625 [==============================] - 0s - loss: 0.5601 - acc: 0.7330     \n",
      "Epoch 9/20\n",
      "2625/2625 [==============================] - 0s - loss: 0.5505 - acc: 0.7406     \n",
      "Epoch 10/20\n",
      "2625/2625 [==============================] - 0s - loss: 0.5417 - acc: 0.7448     \n",
      "Epoch 11/20\n",
      "2625/2625 [==============================] - 0s - loss: 0.5341 - acc: 0.7535     \n",
      "Epoch 12/20\n",
      "2625/2625 [==============================] - 0s - loss: 0.5269 - acc: 0.7562     \n",
      "Epoch 13/20\n",
      "2625/2625 [==============================] - 0s - loss: 0.5194 - acc: 0.7627     \n",
      "Epoch 14/20\n",
      "2625/2625 [==============================] - 0s - loss: 0.5136 - acc: 0.7638     \n",
      "Epoch 15/20\n",
      "2625/2625 [==============================] - 0s - loss: 0.5079 - acc: 0.7672     \n",
      "Epoch 16/20\n",
      "2625/2625 [==============================] - 0s - loss: 0.5028 - acc: 0.7676     \n",
      "Epoch 17/20\n",
      "2625/2625 [==============================] - 0s - loss: 0.4970 - acc: 0.7707     \n",
      "Epoch 18/20\n",
      "2625/2625 [==============================] - 0s - loss: 0.4919 - acc: 0.7771     \n",
      "Epoch 19/20\n",
      "2625/2625 [==============================] - 0s - loss: 0.4872 - acc: 0.7768     \n",
      "Epoch 20/20\n",
      "2625/2625 [==============================] - 0s - loss: 0.4840 - acc: 0.7806     \n"
     ]
    }
   ],
   "source": [
    "# バッチサイズと学習のサイクルを指定します。\n",
    "hist = model.fit( train_X, to_categorical(train_Y), nb_epoch=20, batch_size=100 )"
   ]
  },
  {
   "cell_type": "code",
   "execution_count": 26,
   "metadata": {
    "collapsed": false
   },
   "outputs": [
    {
     "name": "stdout",
     "output_type": "stream",
     "text": [
      "1024/1126 [==========================>...] - ETA: 0s"
     ]
    }
   ],
   "source": [
    "#　学習させたモデルで予測してみる\n",
    "pred_Y = model.predict_classes( test_X )"
   ]
  },
  {
   "cell_type": "code",
   "execution_count": 27,
   "metadata": {
    "collapsed": false
   },
   "outputs": [
    {
     "data": {
      "text/plain": [
       "array([1, 0, 0, ..., 1, 0, 0])"
      ]
     },
     "execution_count": 27,
     "metadata": {},
     "output_type": "execute_result"
    }
   ],
   "source": [
    "pred_Y"
   ]
  },
  {
   "cell_type": "code",
   "execution_count": 28,
   "metadata": {
    "collapsed": true
   },
   "outputs": [],
   "source": [
    "from sklearn.metrics import confusion_matrix, classification_report"
   ]
  },
  {
   "cell_type": "code",
   "execution_count": 29,
   "metadata": {
    "collapsed": false
   },
   "outputs": [
    {
     "data": {
      "text/plain": [
       "array([[364, 150],\n",
       "       [131, 481]])"
      ]
     },
     "execution_count": 29,
     "metadata": {},
     "output_type": "execute_result"
    }
   ],
   "source": [
    "confusion_matrix( test_Y, pred_Y )"
   ]
  },
  {
   "cell_type": "code",
   "execution_count": 30,
   "metadata": {
    "collapsed": false
   },
   "outputs": [
    {
     "name": "stdout",
     "output_type": "stream",
     "text": [
      "             precision    recall  f1-score   support\n",
      "\n",
      "          0       0.74      0.71      0.72       514\n",
      "          1       0.76      0.79      0.77       612\n",
      "\n",
      "avg / total       0.75      0.75      0.75      1126\n",
      "\n"
     ]
    }
   ],
   "source": [
    "print( classification_report( test_Y, pred_Y ))"
   ]
  },
  {
   "cell_type": "code",
   "execution_count": 31,
   "metadata": {
    "collapsed": false
   },
   "outputs": [],
   "source": [
    "loss = hist.history[ \"loss\" ]\n",
    "acc = hist.history[ \"acc\" ]"
   ]
  },
  {
   "cell_type": "code",
   "execution_count": 32,
   "metadata": {
    "collapsed": false
   },
   "outputs": [
    {
     "data": {
      "text/plain": [
       "[<matplotlib.lines.Line2D at 0x1325b9438>]"
      ]
     },
     "execution_count": 32,
     "metadata": {},
     "output_type": "execute_result"
    },
    {
     "data": {
      "image/png": "[encoded data removed]",
      "text/plain": [
       "<matplotlib.figure.Figure at 0x1325cac18>"
      ]
     },
     "metadata": {},
     "output_type": "display_data"
    }
   ],
   "source": [
    "# 学習の過程はヒストリとして保存されているのでかしかしてみる。\n",
    "import matplotlib.pyplot as plt\n",
    "plt.plot( range( len( loss ) ), loss, label = \"loss\" )"
   ]
  },
  {
   "cell_type": "code",
   "execution_count": 15,
   "metadata": {
    "collapsed": false
   },
   "outputs": [
    {
     "data": {
      "text/plain": [
       "[<matplotlib.lines.Line2D at 0x12deba588>]"
      ]
     },
     "execution_count": 15,
     "metadata": {},
     "output_type": "execute_result"
    },
    {
     "data": {
      "image/png": "[encoded data removed]",
      "text/plain": [
       "<matplotlib.figure.Figure at 0x1007dba58>"
      ]
     },
     "metadata": {},
     "output_type": "display_data"
    }
   ],
   "source": [
    "plt.plot( range( len( acc ) ), acc, label = \"acc\" )"
   ]
  },
  {
   "cell_type": "code",
   "execution_count": 34,
   "metadata": {
    "collapsed": false
   },
   "outputs": [
    {
     "data": {
      "text/plain": [
       "[{'class_name': 'Dense',\n",
       "  'config': {'W_constraint': None,\n",
       "   'W_regularizer': None,\n",
       "   'activation': 'linear',\n",
       "   'activity_regularizer': None,\n",
       "   'b_constraint': None,\n",
       "   'b_regularizer': None,\n",
       "   'batch_input_shape': (None, 1776),\n",
       "   'bias': True,\n",
       "   'init': 'glorot_uniform',\n",
       "   'input_dim': 1776,\n",
       "   'input_dtype': 'float32',\n",
       "   'name': 'dense_3',\n",
       "   'output_dim': 100,\n",
       "   'trainable': True}},\n",
       " {'class_name': 'Activation',\n",
       "  'config': {'activation': 'relu', 'name': 'activation_3', 'trainable': True}},\n",
       " {'class_name': 'Dense',\n",
       "  'config': {'W_constraint': None,\n",
       "   'W_regularizer': None,\n",
       "   'activation': 'linear',\n",
       "   'activity_regularizer': None,\n",
       "   'b_constraint': None,\n",
       "   'b_regularizer': None,\n",
       "   'bias': True,\n",
       "   'init': 'glorot_uniform',\n",
       "   'input_dim': None,\n",
       "   'name': 'dense_4',\n",
       "   'output_dim': 2,\n",
       "   'trainable': True}},\n",
       " {'class_name': 'Activation',\n",
       "  'config': {'activation': 'softmax',\n",
       "   'name': 'activation_4',\n",
       "   'trainable': True}}]"
      ]
     },
     "execution_count": 34,
     "metadata": {},
     "output_type": "execute_result"
    }
   ],
   "source": [
    "#モデルの詳細もすぐに取れる\n",
    "model.get_config()"
   ]
  },
  {
   "cell_type": "code",
   "execution_count": 35,
   "metadata": {
    "collapsed": true
   },
   "outputs": [],
   "source": [
    "# SVCはどうでしょう？\n",
    "from sklearn.svm import SVC\n",
    "svc = SVC()"
   ]
  },
  {
   "cell_type": "code",
   "execution_count": 17,
   "metadata": {
    "collapsed": false
   },
   "outputs": [
    {
     "data": {
      "text/plain": [
       "SVC(C=1.0, cache_size=200, class_weight=None, coef0=0.0,\n",
       "  decision_function_shape=None, degree=3, gamma='auto', kernel='rbf',\n",
       "  max_iter=-1, probability=False, random_state=None, shrinking=True,\n",
       "  tol=0.001, verbose=False)"
      ]
     },
     "execution_count": 17,
     "metadata": {},
     "output_type": "execute_result"
    }
   ],
   "source": [
    "svc.fit( train_X, train_Y )"
   ]
  },
  {
   "cell_type": "code",
   "execution_count": 18,
   "metadata": {
    "collapsed": true
   },
   "outputs": [],
   "source": [
    "svc_pred_Y = svc.predict( test_X )"
   ]
  },
  {
   "cell_type": "code",
   "execution_count": 19,
   "metadata": {
    "collapsed": false
   },
   "outputs": [
    {
     "data": {
      "text/plain": [
       "array([[345, 169],\n",
       "       [151, 461]])"
      ]
     },
     "execution_count": 19,
     "metadata": {},
     "output_type": "execute_result"
    }
   ],
   "source": [
    "confusion_matrix( test_Y, svc_pred_Y )"
   ]
  },
  {
   "cell_type": "code",
   "execution_count": 20,
   "metadata": {
    "collapsed": false
   },
   "outputs": [
    {
     "name": "stdout",
     "output_type": "stream",
     "text": [
      "             precision    recall  f1-score   support\n",
      "\n",
      "          0       0.70      0.67      0.68       514\n",
      "          1       0.73      0.75      0.74       612\n",
      "\n",
      "avg / total       0.72      0.72      0.72      1126\n",
      "\n"
     ]
    }
   ],
   "source": [
    "# DNNがちょっとよい\n",
    "print( classification_report( test_Y, svc_pred_Y ) )"
   ]
  },
  {
   "cell_type": "code",
   "execution_count": 105,
   "metadata": {
    "collapsed": false
   },
   "outputs": [
    {
     "data": {
      "text/plain": [
       "1.0"
      ]
     },
     "execution_count": 105,
     "metadata": {},
     "output_type": "execute_result"
    }
   ],
   "source": []
  },
  {
   "cell_type": "code",
   "execution_count": null,
   "metadata": {
    "collapsed": true
   },
   "outputs": [],
   "source": []
  }
 ],
 "metadata": {
  "kernelspec": {
   "display_name": "Python 3",
   "language": "python",
   "name": "python3"
  },
  "language_info": {
   "codemirror_mode": {
    "name": "ipython",
    "version": 3
   },
   "file_extension": ".py",
   "mimetype": "text/x-python",
   "name": "python",
   "nbconvert_exporter": "python",
   "pygments_lexer": "ipython3",
   "version": "3.5.2"
  }
 },
 "nbformat": 4,
 "nbformat_minor": 0
}
