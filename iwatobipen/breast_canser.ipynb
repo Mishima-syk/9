{
 "cells": [
  {
   "cell_type": "code",
   "execution_count": 61,
   "metadata": {
    "collapsed": false
   },
   "outputs": [],
   "source": [
    "%matplotlib inline\n",
    "import  matplotlib.pyplot as plt\n",
    "from sklearn.datasets import load_breast_cancer\n",
    "from sklearn.cross_validation import train_test_split\n",
    "from keras.models import Sequential\n",
    "from keras.layers import Dense, Activation, Dropout, Convolution1D\n",
    "from keras.callbacks import EarlyStopping\n",
    "from keras.utils.np_utils import to_categorical\n",
    "from keras.callbacks import EarlyStopping"
   ]
  },
  {
   "cell_type": "code",
   "execution_count": 62,
   "metadata": {
    "collapsed": false
   },
   "outputs": [
    {
     "name": "stdout",
     "output_type": "stream",
     "text": [
      "Breast Cancer Wisconsin (Diagnostic) Database\n",
      "\n",
      "Notes\n",
      "-----\n",
      "Data Set Characteristics:\n",
      "    :Number of Instances: 569\n",
      "\n",
      "    :Number of Attributes: 30 numeric, predictive attributes and the class\n",
      "\n",
      "    :Attribute Information:\n",
      "        - radius (mean of distances from center to points on the perimeter)\n",
      "        - texture (standard deviation of gray-scale values)\n",
      "        - perimeter\n",
      "        - area\n",
      "        - smoothness (local variation in radius lengths)\n",
      "        - compactness (perimeter^2 / area - 1.0)\n",
      "        - concavity (severity of concave portions of the contour)\n",
      "        - concave points (number of concave portions of the contour)\n",
      "        - symmetry \n",
      "        - fractal dimension (\"coastline approximation\" - 1)\n",
      "        \n",
      "        The mean, standard error, and \"worst\" or largest (mean of the three\n",
      "        largest values) of these features were computed for each image,\n",
      "        resulting in 30 features.  For instance, field 3 is Mean Radius, field\n",
      "        13 is Radius SE, field 23 is Worst Radius.\n",
      "        \n",
      "        - class:\n",
      "                - WDBC-Malignant\n",
      "                - WDBC-Benign\n",
      "\n",
      "    :Summary Statistics:\n",
      "\n",
      "    ===================================== ======= ========\n",
      "                                           Min     Max\n",
      "    ===================================== ======= ========\n",
      "    radius (mean):                         6.981   28.11\n",
      "    texture (mean):                        9.71    39.28\n",
      "    perimeter (mean):                      43.79   188.5\n",
      "    area (mean):                           143.5   2501.0\n",
      "    smoothness (mean):                     0.053   0.163\n",
      "    compactness (mean):                    0.019   0.345\n",
      "    concavity (mean):                      0.0     0.427\n",
      "    concave points (mean):                 0.0     0.201\n",
      "    symmetry (mean):                       0.106   0.304\n",
      "    fractal dimension (mean):              0.05    0.097\n",
      "    radius (standard error):               0.112   2.873\n",
      "    texture (standard error):              0.36    4.885\n",
      "    perimeter (standard error):            0.757   21.98\n",
      "    area (standard error):                 6.802   542.2\n",
      "    smoothness (standard error):           0.002   0.031\n",
      "    compactness (standard error):          0.002   0.135\n",
      "    concavity (standard error):            0.0     0.396\n",
      "    concave points (standard error):       0.0     0.053\n",
      "    symmetry (standard error):             0.008   0.079\n",
      "    fractal dimension (standard error):    0.001   0.03\n",
      "    radius (worst):                        7.93    36.04\n",
      "    texture (worst):                       12.02   49.54\n",
      "    perimeter (worst):                     50.41   251.2\n",
      "    area (worst):                          185.2   4254.0\n",
      "    smoothness (worst):                    0.071   0.223\n",
      "    compactness (worst):                   0.027   1.058\n",
      "    concavity (worst):                     0.0     1.252\n",
      "    concave points (worst):                0.0     0.291\n",
      "    symmetry (worst):                      0.156   0.664\n",
      "    fractal dimension (worst):             0.055   0.208\n",
      "    ===================================== ======= ========\n",
      "\n",
      "    :Missing Attribute Values: None\n",
      "\n",
      "    :Class Distribution: 212 - Malignant, 357 - Benign\n",
      "\n",
      "    :Creator:  Dr. William H. Wolberg, W. Nick Street, Olvi L. Mangasarian\n",
      "\n",
      "    :Donor: Nick Street\n",
      "\n",
      "    :Date: November, 1995\n",
      "\n",
      "This is a copy of UCI ML Breast Cancer Wisconsin (Diagnostic) datasets.\n",
      "https://goo.gl/U2Uwz2\n",
      "\n",
      "Features are computed from a digitized image of a fine needle\n",
      "aspirate (FNA) of a breast mass.  They describe\n",
      "characteristics of the cell nuclei present in the image.\n",
      "A few of the images can be found at\n",
      "http://www.cs.wisc.edu/~street/images/\n",
      "\n",
      "Separating plane described above was obtained using\n",
      "Multisurface Method-Tree (MSM-T) [K. P. Bennett, \"Decision Tree\n",
      "Construction Via Linear Programming.\" Proceedings of the 4th\n",
      "Midwest Artificial Intelligence and Cognitive Science Society,\n",
      "pp. 97-101, 1992], a classification method which uses linear\n",
      "programming to construct a decision tree.  Relevant features\n",
      "were selected using an exhaustive search in the space of 1-4\n",
      "features and 1-3 separating planes.\n",
      "\n",
      "The actual linear program used to obtain the separating plane\n",
      "in the 3-dimensional space is that described in:\n",
      "[K. P. Bennett and O. L. Mangasarian: \"Robust Linear\n",
      "Programming Discrimination of Two Linearly Inseparable Sets\",\n",
      "Optimization Methods and Software 1, 1992, 23-34].\n",
      "\n",
      "This database is also available through the UW CS ftp server:\n",
      "\n",
      "ftp ftp.cs.wisc.edu\n",
      "cd math-prog/cpo-dataset/machine-learn/WDBC/\n",
      "\n",
      "References\n",
      "----------\n",
      "   - W.N. Street, W.H. Wolberg and O.L. Mangasarian. Nuclear feature extraction \n",
      "     for breast tumor diagnosis. IS&T/SPIE 1993 International Symposium on \n",
      "     Electronic Imaging: Science and Technology, volume 1905, pages 861-870, \n",
      "     San Jose, CA, 1993. \n",
      "   - O.L. Mangasarian, W.N. Street and W.H. Wolberg. Breast cancer diagnosis and \n",
      "     prognosis via linear programming. Operations Research, 43(4), pages 570-577, \n",
      "     July-August 1995.\n",
      "   - W.H. Wolberg, W.N. Street, and O.L. Mangasarian. Machine learning techniques\n",
      "     to diagnose breast cancer from fine-needle aspirates. Cancer Letters 77 (1994) \n",
      "     163-171.\n",
      "\n"
     ]
    }
   ],
   "source": [
    "data = load_breast_cancer()\n",
    "print(data.DESCR)"
   ]
  },
  {
   "cell_type": "code",
   "execution_count": 63,
   "metadata": {
    "collapsed": false
   },
   "outputs": [
    {
     "name": "stdout",
     "output_type": "stream",
     "text": [
      "(569, 30) (569,)\n"
     ]
    }
   ],
   "source": [
    "print( data.data.shape, data.target.shape)"
   ]
  },
  {
   "cell_type": "code",
   "execution_count": 64,
   "metadata": {
    "collapsed": false
   },
   "outputs": [],
   "source": [
    "trainx,testx,trainy,testy = train_test_split( data.data, data.target, test_size=0.2, random_state=123 )"
   ]
  },
  {
   "cell_type": "code",
   "execution_count": 65,
   "metadata": {
    "collapsed": false
   },
   "outputs": [
    {
     "name": "stdout",
     "output_type": "stream",
     "text": [
      "(455, 30) (455,) (455, 2)\n"
     ]
    }
   ],
   "source": [
    "print(trainx.shape, trainy.shape, to_categorical(trainy).shape)"
   ]
  },
  {
   "cell_type": "code",
   "execution_count": 66,
   "metadata": {
    "collapsed": true
   },
   "outputs": [],
   "source": [
    "inputdim = data.data.shape[1]\n",
    "output = to_categorical( data.target ).shape[1]"
   ]
  },
  {
   "cell_type": "code",
   "execution_count": 67,
   "metadata": {
    "collapsed": true
   },
   "outputs": [],
   "source": [
    "model = Sequential()\n",
    "earystop = EarlyStopping( patience=2 )"
   ]
  },
  {
   "cell_type": "code",
   "execution_count": 68,
   "metadata": {
    "collapsed": true
   },
   "outputs": [],
   "source": [
    "model.add( Dense( input_dim=inputdim, output_dim=30 ) )\n",
    "model.add( Dropout( 0.2 ) )\n",
    "model.add( Activation( \"sigmoid\" ) )\n",
    "model.add( Dense( 15 ) )\n",
    "model.add( Activation( \"sigmoid\" ) )\n",
    "model.add( Dense( 2 ) )\n",
    "model.add( Activation( \"sigmoid\" ) )\n"
   ]
  },
  {
   "cell_type": "code",
   "execution_count": 69,
   "metadata": {
    "collapsed": true
   },
   "outputs": [],
   "source": [
    "model.compile( loss=\"categorical_crossentropy\", optimizer=\"adam\",metrics=['accuracy'] )"
   ]
  },
  {
   "cell_type": "code",
   "execution_count": 70,
   "metadata": {
    "collapsed": false
   },
   "outputs": [
    {
     "name": "stdout",
     "output_type": "stream",
     "text": [
      "Train on 409 samples, validate on 46 samples\n",
      "Epoch 1/50\n",
      "409/409 [==============================] - 0s - loss: 1.0365 - acc: 0.3716 - val_loss: 0.9535 - val_acc: 0.4130\n",
      "Epoch 2/50\n",
      "409/409 [==============================] - 0s - loss: 0.9667 - acc: 0.3716 - val_loss: 0.8971 - val_acc: 0.4130\n",
      "Epoch 3/50\n",
      "409/409 [==============================] - 0s - loss: 0.9043 - acc: 0.3716 - val_loss: 0.8405 - val_acc: 0.4130\n",
      "Epoch 4/50\n",
      "409/409 [==============================] - 0s - loss: 0.8516 - acc: 0.3716 - val_loss: 0.8017 - val_acc: 0.4130\n",
      "Epoch 5/50\n",
      "409/409 [==============================] - 0s - loss: 0.8053 - acc: 0.3716 - val_loss: 0.7709 - val_acc: 0.4130\n",
      "Epoch 6/50\n",
      "409/409 [==============================] - 0s - loss: 0.7709 - acc: 0.3716 - val_loss: 0.7449 - val_acc: 0.4130\n",
      "Epoch 7/50\n",
      "409/409 [==============================] - 0s - loss: 0.7421 - acc: 0.3716 - val_loss: 0.7228 - val_acc: 0.4130\n",
      "Epoch 8/50\n",
      "409/409 [==============================] - 0s - loss: 0.7177 - acc: 0.3692 - val_loss: 0.7029 - val_acc: 0.4130\n",
      "Epoch 9/50\n",
      "409/409 [==============================] - 0s - loss: 0.6982 - acc: 0.4254 - val_loss: 0.6889 - val_acc: 0.4130\n",
      "Epoch 10/50\n",
      "409/409 [==============================] - 0s - loss: 0.6835 - acc: 0.5819 - val_loss: 0.6715 - val_acc: 0.8478\n",
      "Epoch 11/50\n",
      "409/409 [==============================] - 0s - loss: 0.6602 - acc: 0.7017 - val_loss: 0.6576 - val_acc: 0.6087\n",
      "Epoch 12/50\n",
      "409/409 [==============================] - 0s - loss: 0.6467 - acc: 0.6430 - val_loss: 0.6520 - val_acc: 0.5870\n",
      "Epoch 13/50\n",
      "409/409 [==============================] - 0s - loss: 0.6325 - acc: 0.6333 - val_loss: 0.6470 - val_acc: 0.5870\n",
      "Epoch 14/50\n",
      "409/409 [==============================] - 0s - loss: 0.6266 - acc: 0.6284 - val_loss: 0.6474 - val_acc: 0.5870\n",
      "Epoch 15/50\n",
      "409/409 [==============================] - 0s - loss: 0.6248 - acc: 0.6284 - val_loss: 0.6402 - val_acc: 0.5870\n",
      "Epoch 16/50\n",
      "409/409 [==============================] - 0s - loss: 0.6161 - acc: 0.6284 - val_loss: 0.6347 - val_acc: 0.5870\n",
      "Epoch 17/50\n",
      "409/409 [==============================] - 0s - loss: 0.6111 - acc: 0.6284 - val_loss: 0.6332 - val_acc: 0.5870\n",
      "Epoch 18/50\n",
      "409/409 [==============================] - 0s - loss: 0.6117 - acc: 0.6284 - val_loss: 0.6320 - val_acc: 0.5870\n",
      "Epoch 19/50\n",
      "409/409 [==============================] - 0s - loss: 0.6029 - acc: 0.6284 - val_loss: 0.6242 - val_acc: 0.5870\n",
      "Epoch 20/50\n",
      "409/409 [==============================] - 0s - loss: 0.6043 - acc: 0.6284 - val_loss: 0.6191 - val_acc: 0.5870\n",
      "Epoch 21/50\n",
      "409/409 [==============================] - 0s - loss: 0.5919 - acc: 0.6284 - val_loss: 0.6130 - val_acc: 0.5870\n",
      "Epoch 22/50\n",
      "409/409 [==============================] - 0s - loss: 0.5945 - acc: 0.6284 - val_loss: 0.6074 - val_acc: 0.5870\n",
      "Epoch 23/50\n",
      "409/409 [==============================] - 0s - loss: 0.5879 - acc: 0.6284 - val_loss: 0.6052 - val_acc: 0.5870\n",
      "Epoch 24/50\n",
      "409/409 [==============================] - 0s - loss: 0.5841 - acc: 0.6284 - val_loss: 0.6028 - val_acc: 0.5870\n",
      "Epoch 25/50\n",
      "409/409 [==============================] - 0s - loss: 0.5808 - acc: 0.6357 - val_loss: 0.5929 - val_acc: 0.5870\n",
      "Epoch 26/50\n",
      "409/409 [==============================] - 0s - loss: 0.5763 - acc: 0.6357 - val_loss: 0.5999 - val_acc: 0.5870\n",
      "Epoch 27/50\n",
      "409/409 [==============================] - 0s - loss: 0.5728 - acc: 0.6357 - val_loss: 0.6025 - val_acc: 0.5870\n",
      "Epoch 28/50\n",
      "409/409 [==============================] - 0s - loss: 0.5672 - acc: 0.6504 - val_loss: 0.5865 - val_acc: 0.7391\n",
      "Epoch 29/50\n",
      "409/409 [==============================] - 0s - loss: 0.5567 - acc: 0.6626 - val_loss: 0.5737 - val_acc: 0.7609\n",
      "Epoch 30/50\n",
      "409/409 [==============================] - 0s - loss: 0.5531 - acc: 0.7066 - val_loss: 0.5784 - val_acc: 0.7391\n",
      "Epoch 31/50\n",
      "409/409 [==============================] - 0s - loss: 0.5464 - acc: 0.6993 - val_loss: 0.5765 - val_acc: 0.7609\n",
      "Epoch 32/50\n",
      "409/409 [==============================] - 0s - loss: 0.5416 - acc: 0.7164 - val_loss: 0.5727 - val_acc: 0.7609\n",
      "Epoch 33/50\n",
      "409/409 [==============================] - 0s - loss: 0.5379 - acc: 0.7311 - val_loss: 0.5681 - val_acc: 0.7391\n",
      "Epoch 34/50\n",
      "409/409 [==============================] - 0s - loss: 0.5352 - acc: 0.7579 - val_loss: 0.5682 - val_acc: 0.7609\n",
      "Epoch 35/50\n",
      "409/409 [==============================] - 0s - loss: 0.5246 - acc: 0.7531 - val_loss: 0.5618 - val_acc: 0.7609\n",
      "Epoch 36/50\n",
      "409/409 [==============================] - 0s - loss: 0.5189 - acc: 0.7531 - val_loss: 0.5541 - val_acc: 0.7609\n",
      "Epoch 37/50\n",
      "409/409 [==============================] - 0s - loss: 0.5173 - acc: 0.7604 - val_loss: 0.5589 - val_acc: 0.7609\n",
      "Epoch 38/50\n",
      "409/409 [==============================] - 0s - loss: 0.5048 - acc: 0.8142 - val_loss: 0.5464 - val_acc: 0.7391\n",
      "Epoch 39/50\n",
      "409/409 [==============================] - 0s - loss: 0.4979 - acc: 0.8362 - val_loss: 0.5378 - val_acc: 0.7609\n",
      "Epoch 40/50\n",
      "409/409 [==============================] - 0s - loss: 0.4872 - acc: 0.8484 - val_loss: 0.5175 - val_acc: 0.7391\n",
      "Epoch 41/50\n",
      "409/409 [==============================] - 0s - loss: 0.4892 - acc: 0.8435 - val_loss: 0.5218 - val_acc: 0.7391\n",
      "Epoch 42/50\n",
      "409/409 [==============================] - 0s - loss: 0.4769 - acc: 0.8533 - val_loss: 0.5106 - val_acc: 0.7609\n",
      "Epoch 43/50\n",
      "409/409 [==============================] - 0s - loss: 0.4701 - acc: 0.8680 - val_loss: 0.5086 - val_acc: 0.7391\n",
      "Epoch 44/50\n",
      "409/409 [==============================] - 0s - loss: 0.4603 - acc: 0.8606 - val_loss: 0.4830 - val_acc: 0.7391\n",
      "Epoch 45/50\n",
      "409/409 [==============================] - 0s - loss: 0.4514 - acc: 0.8729 - val_loss: 0.4832 - val_acc: 0.7609\n",
      "Epoch 46/50\n",
      "409/409 [==============================] - 0s - loss: 0.4482 - acc: 0.8557 - val_loss: 0.5011 - val_acc: 0.7391\n",
      "Epoch 47/50\n",
      "409/409 [==============================] - 0s - loss: 0.4523 - acc: 0.8606 - val_loss: 0.4920 - val_acc: 0.7609\n"
     ]
    }
   ],
   "source": [
    "hist = model.fit( trainx, to_categorical(trainy), \n",
    "                 batch_size=50,\n",
    "                 nb_epoch=50,\n",
    "                 validation_split=0.1,\n",
    "                 callbacks = [ earystop ]\n",
    "                 )"
   ]
  },
  {
   "cell_type": "code",
   "execution_count": 71,
   "metadata": {
    "collapsed": false
   },
   "outputs": [
    {
     "data": {
      "text/plain": [
       "{'batch_size': 50,\n",
       " 'do_validation': True,\n",
       " 'metrics': ['loss', 'acc', 'val_loss', 'val_acc'],\n",
       " 'nb_epoch': 50,\n",
       " 'nb_sample': 409,\n",
       " 'verbose': 1}"
      ]
     },
     "execution_count": 71,
     "metadata": {},
     "output_type": "execute_result"
    }
   ],
   "source": [
    "hist.params"
   ]
  },
  {
   "cell_type": "code",
   "execution_count": 72,
   "metadata": {
    "collapsed": true
   },
   "outputs": [],
   "source": [
    "acc = hist.history[ \"acc\" ]\n",
    "loss = hist.history[ 'loss' ]"
   ]
  },
  {
   "cell_type": "code",
   "execution_count": 73,
   "metadata": {
    "collapsed": true
   },
   "outputs": [],
   "source": [
    "epoch = range( len(acc) )"
   ]
  },
  {
   "cell_type": "code",
   "execution_count": 78,
   "metadata": {
    "collapsed": false
   },
   "outputs": [
    {
     "data": {
      "text/plain": [
       "[<matplotlib.lines.Line2D at 0x111f9b160>]"
      ]
     },
     "execution_count": 78,
     "metadata": {},
     "output_type": "execute_result"
    },
    {
     "data": {
      "image/png": "[encoded data removed]",
      "text/plain": [
       "<matplotlib.figure.Figure at 0x111f3cb38>"
      ]
     },
     "metadata": {},
     "output_type": "display_data"
    }
   ],
   "source": [
    "plt.plot( epoch, acc, label='acc' )"
   ]
  },
  {
   "cell_type": "code",
   "execution_count": 79,
   "metadata": {
    "collapsed": false
   },
   "outputs": [
    {
     "data": {
      "text/plain": [
       "[<matplotlib.lines.Line2D at 0x11177eac8>]"
      ]
     },
     "execution_count": 79,
     "metadata": {},
     "output_type": "execute_result"
    },
    {
     "data": {
      "image/png": "[encoded data removed]",
      "text/plain": [
       "<matplotlib.figure.Figure at 0x111f87160>"
      ]
     },
     "metadata": {},
     "output_type": "display_data"
    }
   ],
   "source": [
    "plt.plot( epoch, loss, label='loss' )"
   ]
  },
  {
   "cell_type": "code",
   "execution_count": 80,
   "metadata": {
    "collapsed": false
   },
   "outputs": [
    {
     "name": "stdout",
     "output_type": "stream",
     "text": [
      "\r",
      " 32/114 [=======>......................] - ETA: 0s"
     ]
    }
   ],
   "source": [
    "predy = model.predict_classes( testx )"
   ]
  },
  {
   "cell_type": "code",
   "execution_count": 81,
   "metadata": {
    "collapsed": false
   },
   "outputs": [
    {
     "data": {
      "text/plain": [
       "array([1, 1, 0, 1, 0, 1, 1, 1, 0, 1, 1, 0, 1, 1, 1, 1, 1, 1, 1, 1, 0, 0, 1,\n",
       "       1, 1, 0, 0, 1, 0, 1, 1, 1, 1, 1, 0, 1, 0, 1, 1, 0, 0, 1, 0, 1, 0, 1,\n",
       "       0, 1, 1, 0, 0, 0, 1, 1, 1, 1, 1, 0, 0, 1, 0, 1, 1, 1, 1, 0, 1, 1, 1,\n",
       "       1, 1, 1, 0, 1, 0, 1, 1, 0, 0, 0, 1, 0, 0, 1, 1, 1, 1, 1, 0, 1, 0, 1,\n",
       "       1, 1, 1, 1, 1, 1, 1, 1, 1, 1, 1, 1, 1, 1, 1, 1, 1, 1, 1, 1, 1, 0])"
      ]
     },
     "execution_count": 81,
     "metadata": {},
     "output_type": "execute_result"
    }
   ],
   "source": [
    "predy"
   ]
  },
  {
   "cell_type": "code",
   "execution_count": 82,
   "metadata": {
    "collapsed": true
   },
   "outputs": [],
   "source": [
    "from sklearn.metrics import classification_report, confusion_matrix"
   ]
  },
  {
   "cell_type": "code",
   "execution_count": 83,
   "metadata": {
    "collapsed": false
   },
   "outputs": [
    {
     "data": {
      "text/plain": [
       "array([[31,  2],\n",
       "       [10, 71]])"
      ]
     },
     "execution_count": 83,
     "metadata": {},
     "output_type": "execute_result"
    }
   ],
   "source": [
    "confusion_matrix(predy, testy)"
   ]
  },
  {
   "cell_type": "code",
   "execution_count": 84,
   "metadata": {
    "collapsed": false
   },
   "outputs": [
    {
     "name": "stdout",
     "output_type": "stream",
     "text": [
      "             precision    recall  f1-score   support\n",
      "\n",
      "          0       0.76      0.94      0.84        33\n",
      "          1       0.97      0.88      0.92        81\n",
      "\n",
      "avg / total       0.91      0.89      0.90       114\n",
      "\n"
     ]
    }
   ],
   "source": [
    "print(classification_report(predy, testy))"
   ]
  },
  {
   "cell_type": "code",
   "execution_count": null,
   "metadata": {
    "collapsed": true
   },
   "outputs": [],
   "source": []
  }
 ],
 "metadata": {
  "kernelspec": {
   "display_name": "Python 3",
   "language": "python",
   "name": "python3"
  },
  "language_info": {
   "codemirror_mode": {
    "name": "ipython",
    "version": 3
   },
   "file_extension": ".py",
   "mimetype": "text/x-python",
   "name": "python",
   "nbconvert_exporter": "python",
   "pygments_lexer": "ipython3",
   "version": "3.5.2"
  }
 },
 "nbformat": 4,
 "nbformat_minor": 0
}
